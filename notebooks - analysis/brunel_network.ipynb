{
 "cells": [
  {
   "cell_type": "markdown",
   "metadata": {},
   "source": [
    "# Brunel Network\n",
    "\n",
    "This is simulation of Brunel Network based on the following paper:\n",
    "\n",
    "*Dynamics of Sparsely Connected Networks of Excitatory and Inhibitory Spiking Neurons\n",
    "NICOLAS BRUNEL, Journal of Computational Neuroscience 8, 183–208 (2000)*\n",
    "\n",
    "The simulation is done by NEST : https://www.nest-simulator.org/\n",
    "\n",
    "The main aim is to have large spiking network of leaky-integrate and fire neurons (inhibitory and excitatory) as a ground truth. \n",
    "In next step, I will try to estimate the connectivity of this network by fitting an Auto-regressive process and measure how well this method can infere based on ground truth.\n",
    "\n",
    "This simulation process has been run on the computing nodes of Bernstein Center Freiburg (https://www.bcf.uni-freiburg.de). So, it has benefited multiple threading."
   ]
  },
  {
   "cell_type": "code",
   "execution_count": 1,
   "metadata": {},
   "outputs": [
    {
     "name": "stdout",
     "output_type": "stream",
     "text": [
      "\n",
      "              -- N E S T --\n",
      "  Copyright (C) 2004 The NEST Initiative\n",
      "\n",
      " Version: 3.8.0\n",
      " Built: Aug  5 2024 06:09:28\n",
      "\n",
      " This program is provided AS IS and comes with\n",
      " NO WARRANTY. See the file LICENSE for details.\n",
      "\n",
      " Problems or suggestions?\n",
      "   Visit https://www.nest-simulator.org\n",
      "\n",
      " Type 'nest.help()' to find out more about NEST.\n",
      "\n"
     ]
    }
   ],
   "source": [
    "#%matplotlib qt\n",
    "\n",
    "import nest\n",
    "import nest.raster_plot\n",
    "\n",
    "import matplotlib.pyplot as plt\n",
    "import numpy as np\n",
    "\n",
    "import time\n",
    "from numpy import exp\n",
    "\n",
    "import csv\n",
    "import pandas as pd\n",
    "#import h5py\n",
    "\n",
    "nest.ResetKernel()"
   ]
  },
  {
   "cell_type": "code",
   "execution_count": 2,
   "metadata": {},
   "outputs": [],
   "source": [
    "startbuild = time.time()\n",
    "nest.SetKernelStatus({\"local_num_threads\": 32})"
   ]
  },
  {
   "cell_type": "markdown",
   "metadata": {},
   "source": [
    "----> the problem of 0.1ms resolusion should be solved. spike times in this case is given as x.y. so it need to get multiplied by 10!"
   ]
  },
  {
   "cell_type": "code",
   "execution_count": 3,
   "metadata": {},
   "outputs": [],
   "source": [
    "dt = 0.1  # the resolution in ms\n",
    "simtime = 10000 # Simulation time in ms\n",
    "#spike_bin = 10 #bin size for downsampling the spike train  (after checking whole code this line shall be removed.)"
   ]
  },
  {
   "cell_type": "code",
   "execution_count": 4,
   "metadata": {},
   "outputs": [],
   "source": [
    "sim_dict = {\"Time resolution of simulation(ms)\": dt, \"Recording time(ms)\": simtime}\n",
    "sim_pd = pd.DataFrame.from_dict(sim_dict, orient=\"index\")"
   ]
  },
  {
   "cell_type": "code",
   "execution_count": 5,
   "metadata": {},
   "outputs": [],
   "source": [
    "g = 6.0  # ratio inhibitory weight/excitatory weight\n",
    "eta = 2.0  # external rate relative to threshold rate\n",
    "epsilon = 0.1  # connection probability"
   ]
  },
  {
   "cell_type": "code",
   "execution_count": 6,
   "metadata": {},
   "outputs": [],
   "source": [
    "order = 250\n",
    "NE = 4 * order  # number of excitatory neurons\n",
    "NI = 1 * order  # number of inhibitory neurons\n",
    "N_neurons = NE + NI  # number of neurons in total\n",
    "N_rec = 50  # record from 50 neurons"
   ]
  },
  {
   "cell_type": "code",
   "execution_count": 7,
   "metadata": {},
   "outputs": [],
   "source": [
    "CE = int(epsilon * NE)  # number of excitatory synapses per neuron\n",
    "CI = int(epsilon * NI)  # number of inhibitory synapses per neuron\n",
    "C_tot = int(CI + CE)  # total number of synapses per neuron"
   ]
  },
  {
   "cell_type": "code",
   "execution_count": 8,
   "metadata": {},
   "outputs": [],
   "source": [
    "network_dic = {\"Number of neurons\": N_neurons, \n",
    "               \"Number of exc neurons\": NE, \n",
    "               \"Number of inh neurons\": NI, \n",
    "               \"Number of exc synapses per neuron\": CE, \n",
    "               \"Number of inh synapses per neuron\": CI, \n",
    "               \"Total number of synapses per neuron\": C_tot, \n",
    "               \"Ratio inh/exc weight (g)\": g, \n",
    "               \"External rate relative to threshold rate (eta)\": eta}\n",
    "\n",
    "network_pd = pd.DataFrame.from_dict(network_dic, orient='index')"
   ]
  },
  {
   "cell_type": "code",
   "execution_count": 8,
   "metadata": {},
   "outputs": [],
   "source": [
    "delay = 1.5  # synaptic delay in ms\n",
    "tauMem = 20.0  # time constant of membrane potential in ms\n",
    "theta = 20.0  # membrane threshold potential in mV\n",
    "neuron_params = {\"C_m\": 1.0,\n",
    "                 \"tau_m\": tauMem,\n",
    "                 \"t_ref\": 2.0,\n",
    "                 \"E_L\": 0.0,\n",
    "                 \"V_reset\": 0.0,\n",
    "                 \"V_m\": 0.0,\n",
    "                 \"V_th\": theta}\n",
    "J = 8.  # postsynaptic amplitude in mV\n",
    "J_ex = J  # amplitude of excitatory postsynaptic potential\n",
    "J_in = -g * J_ex  # amplitude of inhibitory postsynaptic potential"
   ]
  },
  {
   "cell_type": "code",
   "execution_count": 10,
   "metadata": {},
   "outputs": [],
   "source": [
    "neuron_dic = {\"time constant of membrane potential(ms)\": tauMem, \"membrane threshold potential(mV)\": theta, \"postsynaptic amplitude(mV)\": J, \n",
    "              \"J_ex\": J_ex, \"J_in\": J_in, \"synaptic delay(ms)\": delay, \"C_m\": 1.0,\n",
    "                 \"t_ref\": 2.0,\n",
    "                 \"E_L\": 0.0,\n",
    "                 \"V_reset\": 0.0,\n",
    "                 \"V_m\": 0.0,}\n",
    "neuron_pd = pd.DataFrame.from_dict(neuron_dic, orient='index')"
   ]
  },
  {
   "cell_type": "code",
   "execution_count": 9,
   "metadata": {},
   "outputs": [],
   "source": [
    "nu_th = theta / (J * CE * tauMem)\n",
    "nu_ex = eta * nu_th\n",
    "p_rate = 10000.0 * nu_ex * CE\n",
    "\n",
    "output_dic = {\"nu_th\": nu_th, \"nu_ex\": nu_ex, \"p_rate\": p_rate}\n",
    "output_pd = pd.DataFrame.from_dict(output_dic, orient='index')"
   ]
  },
  {
   "cell_type": "code",
   "execution_count": 12,
   "metadata": {},
   "outputs": [
    {
     "name": "stdout",
     "output_type": "stream",
     "text": [
      "Simulation Parameters: \n",
      "\n"
     ]
    },
    {
     "data": {
      "text/html": [
       "<div>\n",
       "<style scoped>\n",
       "    .dataframe tbody tr th:only-of-type {\n",
       "        vertical-align: middle;\n",
       "    }\n",
       "\n",
       "    .dataframe tbody tr th {\n",
       "        vertical-align: top;\n",
       "    }\n",
       "\n",
       "    .dataframe thead th {\n",
       "        text-align: right;\n",
       "    }\n",
       "</style>\n",
       "<table border=\"1\" class=\"dataframe\">\n",
       "  <thead>\n",
       "    <tr style=\"text-align: right;\">\n",
       "      <th></th>\n",
       "      <th>0</th>\n",
       "    </tr>\n",
       "  </thead>\n",
       "  <tbody>\n",
       "    <tr>\n",
       "      <th>Time resolution of simulation(ms)</th>\n",
       "      <td>0.1</td>\n",
       "    </tr>\n",
       "    <tr>\n",
       "      <th>Recording time(ms)</th>\n",
       "      <td>10000.0</td>\n",
       "    </tr>\n",
       "  </tbody>\n",
       "</table>\n",
       "</div>"
      ],
      "text/plain": [
       "                                         0\n",
       "Time resolution of simulation(ms)      0.1\n",
       "Recording time(ms)                 10000.0"
      ]
     },
     "metadata": {},
     "output_type": "display_data"
    },
    {
     "name": "stdout",
     "output_type": "stream",
     "text": [
      "Network Parameters: \n",
      "\n"
     ]
    },
    {
     "data": {
      "text/html": [
       "<div>\n",
       "<style scoped>\n",
       "    .dataframe tbody tr th:only-of-type {\n",
       "        vertical-align: middle;\n",
       "    }\n",
       "\n",
       "    .dataframe tbody tr th {\n",
       "        vertical-align: top;\n",
       "    }\n",
       "\n",
       "    .dataframe thead th {\n",
       "        text-align: right;\n",
       "    }\n",
       "</style>\n",
       "<table border=\"1\" class=\"dataframe\">\n",
       "  <thead>\n",
       "    <tr style=\"text-align: right;\">\n",
       "      <th></th>\n",
       "      <th>0</th>\n",
       "    </tr>\n",
       "  </thead>\n",
       "  <tbody>\n",
       "    <tr>\n",
       "      <th>Number of neurons</th>\n",
       "      <td>1250.0</td>\n",
       "    </tr>\n",
       "    <tr>\n",
       "      <th>Number of exc neurons</th>\n",
       "      <td>1000.0</td>\n",
       "    </tr>\n",
       "    <tr>\n",
       "      <th>Number of inh neurons</th>\n",
       "      <td>250.0</td>\n",
       "    </tr>\n",
       "    <tr>\n",
       "      <th>Number of exc synapses per neuron</th>\n",
       "      <td>100.0</td>\n",
       "    </tr>\n",
       "    <tr>\n",
       "      <th>Number of inh synapses per neuron</th>\n",
       "      <td>25.0</td>\n",
       "    </tr>\n",
       "    <tr>\n",
       "      <th>Total number of synapses per neuron</th>\n",
       "      <td>125.0</td>\n",
       "    </tr>\n",
       "    <tr>\n",
       "      <th>Ratio inh/exc weight (g)</th>\n",
       "      <td>6.0</td>\n",
       "    </tr>\n",
       "    <tr>\n",
       "      <th>External rate relative to threshold rate (eta)</th>\n",
       "      <td>2.0</td>\n",
       "    </tr>\n",
       "  </tbody>\n",
       "</table>\n",
       "</div>"
      ],
      "text/plain": [
       "                                                     0\n",
       "Number of neurons                               1250.0\n",
       "Number of exc neurons                           1000.0\n",
       "Number of inh neurons                            250.0\n",
       "Number of exc synapses per neuron                100.0\n",
       "Number of inh synapses per neuron                 25.0\n",
       "Total number of synapses per neuron              125.0\n",
       "Ratio inh/exc weight (g)                           6.0\n",
       "External rate relative to threshold rate (eta)     2.0"
      ]
     },
     "metadata": {},
     "output_type": "display_data"
    },
    {
     "name": "stdout",
     "output_type": "stream",
     "text": [
      "Neuron Parameters: \n",
      "\n"
     ]
    },
    {
     "data": {
      "text/html": [
       "<div>\n",
       "<style scoped>\n",
       "    .dataframe tbody tr th:only-of-type {\n",
       "        vertical-align: middle;\n",
       "    }\n",
       "\n",
       "    .dataframe tbody tr th {\n",
       "        vertical-align: top;\n",
       "    }\n",
       "\n",
       "    .dataframe thead th {\n",
       "        text-align: right;\n",
       "    }\n",
       "</style>\n",
       "<table border=\"1\" class=\"dataframe\">\n",
       "  <thead>\n",
       "    <tr style=\"text-align: right;\">\n",
       "      <th></th>\n",
       "      <th>0</th>\n",
       "    </tr>\n",
       "  </thead>\n",
       "  <tbody>\n",
       "    <tr>\n",
       "      <th>time constant of membrane potential(ms)</th>\n",
       "      <td>20.0</td>\n",
       "    </tr>\n",
       "    <tr>\n",
       "      <th>membrane threshold potential(mV)</th>\n",
       "      <td>20.0</td>\n",
       "    </tr>\n",
       "    <tr>\n",
       "      <th>postsynaptic amplitude(mV)</th>\n",
       "      <td>8.0</td>\n",
       "    </tr>\n",
       "    <tr>\n",
       "      <th>J_ex</th>\n",
       "      <td>8.0</td>\n",
       "    </tr>\n",
       "    <tr>\n",
       "      <th>J_in</th>\n",
       "      <td>-48.0</td>\n",
       "    </tr>\n",
       "    <tr>\n",
       "      <th>synaptic delay(ms)</th>\n",
       "      <td>1.5</td>\n",
       "    </tr>\n",
       "    <tr>\n",
       "      <th>C_m</th>\n",
       "      <td>1.0</td>\n",
       "    </tr>\n",
       "    <tr>\n",
       "      <th>t_ref</th>\n",
       "      <td>2.0</td>\n",
       "    </tr>\n",
       "    <tr>\n",
       "      <th>E_L</th>\n",
       "      <td>0.0</td>\n",
       "    </tr>\n",
       "    <tr>\n",
       "      <th>V_reset</th>\n",
       "      <td>0.0</td>\n",
       "    </tr>\n",
       "    <tr>\n",
       "      <th>V_m</th>\n",
       "      <td>0.0</td>\n",
       "    </tr>\n",
       "  </tbody>\n",
       "</table>\n",
       "</div>"
      ],
      "text/plain": [
       "                                            0\n",
       "time constant of membrane potential(ms)  20.0\n",
       "membrane threshold potential(mV)         20.0\n",
       "postsynaptic amplitude(mV)                8.0\n",
       "J_ex                                      8.0\n",
       "J_in                                    -48.0\n",
       "synaptic delay(ms)                        1.5\n",
       "C_m                                       1.0\n",
       "t_ref                                     2.0\n",
       "E_L                                       0.0\n",
       "V_reset                                   0.0\n",
       "V_m                                       0.0"
      ]
     },
     "metadata": {},
     "output_type": "display_data"
    },
    {
     "name": "stdout",
     "output_type": "stream",
     "text": [
      "Output Parameters: \n",
      "\n"
     ]
    },
    {
     "data": {
      "text/html": [
       "<div>\n",
       "<style scoped>\n",
       "    .dataframe tbody tr th:only-of-type {\n",
       "        vertical-align: middle;\n",
       "    }\n",
       "\n",
       "    .dataframe tbody tr th {\n",
       "        vertical-align: top;\n",
       "    }\n",
       "\n",
       "    .dataframe thead th {\n",
       "        text-align: right;\n",
       "    }\n",
       "</style>\n",
       "<table border=\"1\" class=\"dataframe\">\n",
       "  <thead>\n",
       "    <tr style=\"text-align: right;\">\n",
       "      <th></th>\n",
       "      <th>0</th>\n",
       "    </tr>\n",
       "  </thead>\n",
       "  <tbody>\n",
       "    <tr>\n",
       "      <th>nu_th</th>\n",
       "      <td>0.00125</td>\n",
       "    </tr>\n",
       "    <tr>\n",
       "      <th>nu_ex</th>\n",
       "      <td>0.00250</td>\n",
       "    </tr>\n",
       "    <tr>\n",
       "      <th>p_rate</th>\n",
       "      <td>2500.00000</td>\n",
       "    </tr>\n",
       "  </tbody>\n",
       "</table>\n",
       "</div>"
      ],
      "text/plain": [
       "                 0\n",
       "nu_th      0.00125\n",
       "nu_ex      0.00250\n",
       "p_rate  2500.00000"
      ]
     },
     "metadata": {},
     "output_type": "display_data"
    }
   ],
   "source": [
    "print(\"Simulation Parameters: \\n\")\n",
    "display(sim_pd)\n",
    "print(\"Network Parameters: \\n\")\n",
    "display(network_pd)\n",
    "print(\"Neuron Parameters: \\n\")\n",
    "display(neuron_pd)\n",
    "print(\"Output Parameters: \\n\")\n",
    "display(output_pd)"
   ]
  },
  {
   "cell_type": "code",
   "execution_count": 10,
   "metadata": {},
   "outputs": [
    {
     "name": "stdout",
     "output_type": "stream",
     "text": [
      "Building network\n",
      "\n",
      "Oct 13 16:08:01 SimulationManager::set_status [Info]: \n",
      "    Temporal resolution changed from 0.1 to 0.1 ms.\n"
     ]
    }
   ],
   "source": [
    "nest.SetKernelStatus({\"resolution\": dt, \"print_time\": True,\n",
    "                      \"overwrite_files\": True})\n",
    "\n",
    "print(\"Building network\")"
   ]
  },
  {
   "cell_type": "markdown",
   "metadata": {},
   "source": [
    "DC generator was for testing something!"
   ]
  },
  {
   "cell_type": "markdown",
   "metadata": {},
   "source": [
    "<font color=\"red\">This block didn't compile.</font>"
   ]
  },
  {
   "cell_type": "code",
   "execution_count": 11,
   "metadata": {},
   "outputs": [],
   "source": [
    "nest.SetDefaults(\"iaf_psc_delta\", neuron_params)\n",
    "nest.SetDefaults(\"poisson_generator\", {\"rate\": p_rate})\n",
    "\n",
    "#DC generator\n",
    "nest.SetDefaults(\"dc_generator\", {\"amplitude\": 6.})"
   ]
  },
  {
   "cell_type": "code",
   "execution_count": 12,
   "metadata": {},
   "outputs": [],
   "source": [
    "nodes_ex = nest.Create(\"iaf_psc_delta\", NE, params=neuron_params)\n",
    "nodes_in = nest.Create(\"iaf_psc_delta\", NI, params=neuron_params)\n",
    "\n",
    "#DC Generator\n",
    "noise = nest.Create(\"poisson_generator\")\n",
    "#noise = nest.Create(\"dc_generator\")\n",
    "\n",
    "#espikes = nest.Create(\"spike_detector\")\n",
    "#ispikes = nest.Create(\"spike_detector\")\n",
    "\n",
    "espikes = nest.Create(\"spike_recorder\")\n",
    "ispikes = nest.Create(\"spike_recorder\")"
   ]
  },
  {
   "cell_type": "code",
   "execution_count": 13,
   "metadata": {},
   "outputs": [],
   "source": [
    "#neuron test\n",
    "neuron_test = nest.Create(\"iaf_psc_delta\", 1)"
   ]
  },
  {
   "cell_type": "code",
   "execution_count": 14,
   "metadata": {},
   "outputs": [],
   "source": [
    "#neuron test multimeter\n",
    "#multimeter_neuron = nest.Create(\"multimeter\")\n",
    "#nest.SetStatus(multimeter_neuron, {\"withtime\":True, \"record_from\":[\"V_m\"]})\n",
    "\n",
    "multimeter_network_E = nest.Create(\"multimeter\")\n",
    "#nest.SetStatus(multimeter_network_E, {\"withtime\":True, \"record_from\":[\"V_m\"]})\n",
    "nest.SetStatus(multimeter_network_E, {\"record_from\":[\"V_m\"]})\n",
    "\n",
    "multimeter_network_I = nest.Create(\"multimeter\")\n",
    "#nest.SetStatus(multimeter_network_I, {\"withtime\":True, \"record_from\":[\"V_m\"]})\n",
    "nest.SetStatus(multimeter_network_I, {\"record_from\":[\"V_m\"]})"
   ]
  },
  {
   "cell_type": "code",
   "execution_count": 15,
   "metadata": {},
   "outputs": [],
   "source": [
    "#spike detectors\n",
    "#sp_detector = nest.Create(\"spike_recorder\", params={\"withtime\": True, \"withgid\": True, \"to_file\": True, \"label\": \"spike_data\", \"record_to\": \"hdf5\"})\n",
    "sp_detector = nest.Create(\"spike_recorder\")"
   ]
  },
  {
   "cell_type": "markdown",
   "metadata": {},
   "source": [
    "<font color=\"red\">This block didn't compile.</font>"
   ]
  },
  {
   "cell_type": "code",
   "execution_count": 19,
   "metadata": {},
   "outputs": [
    {
     "ename": "NESTErrors.DictError",
     "evalue": "DictError in SLI function SetStatus_id: Unused dictionary items:  withtime withgid to_file",
     "output_type": "error",
     "traceback": [
      "\u001b[0;31m---------------------------------------------------------------------------\u001b[0m",
      "\u001b[0;31mNESTErrors.DictError\u001b[0m                      Traceback (most recent call last)",
      "Cell \u001b[0;32mIn[19], line 1\u001b[0m\n\u001b[0;32m----> 1\u001b[0m \u001b[43mnest\u001b[49m\u001b[38;5;241;43m.\u001b[39;49m\u001b[43mSetStatus\u001b[49m\u001b[43m(\u001b[49m\u001b[43mespikes\u001b[49m\u001b[43m,\u001b[49m\u001b[43m \u001b[49m\u001b[43m[\u001b[49m\u001b[43m{\u001b[49m\u001b[38;5;124;43m\"\u001b[39;49m\u001b[38;5;124;43mlabel\u001b[39;49m\u001b[38;5;124;43m\"\u001b[39;49m\u001b[43m:\u001b[49m\u001b[43m \u001b[49m\u001b[38;5;124;43m\"\u001b[39;49m\u001b[38;5;124;43mbrunel-py-ex\u001b[39;49m\u001b[38;5;124;43m\"\u001b[39;49m\u001b[43m,\u001b[49m\n\u001b[1;32m      2\u001b[0m \u001b[43m                          \u001b[49m\u001b[38;5;124;43m\"\u001b[39;49m\u001b[38;5;124;43mwithtime\u001b[39;49m\u001b[38;5;124;43m\"\u001b[39;49m\u001b[43m:\u001b[49m\u001b[43m \u001b[49m\u001b[38;5;28;43;01mTrue\u001b[39;49;00m\u001b[43m,\u001b[49m\n\u001b[1;32m      3\u001b[0m \u001b[43m                          \u001b[49m\u001b[38;5;124;43m\"\u001b[39;49m\u001b[38;5;124;43mwithgid\u001b[39;49m\u001b[38;5;124;43m\"\u001b[39;49m\u001b[43m:\u001b[49m\u001b[43m \u001b[49m\u001b[38;5;28;43;01mTrue\u001b[39;49;00m\u001b[43m,\u001b[49m\n\u001b[1;32m      4\u001b[0m \u001b[43m                          \u001b[49m\u001b[38;5;124;43m\"\u001b[39;49m\u001b[38;5;124;43mto_file\u001b[39;49m\u001b[38;5;124;43m\"\u001b[39;49m\u001b[43m:\u001b[49m\u001b[43m \u001b[49m\u001b[38;5;28;43;01mTrue\u001b[39;49;00m\u001b[43m}\u001b[49m\u001b[43m]\u001b[49m\u001b[43m)\u001b[49m\n\u001b[1;32m      6\u001b[0m nest\u001b[38;5;241m.\u001b[39mSetStatus(ispikes, [{\u001b[38;5;124m\"\u001b[39m\u001b[38;5;124mlabel\u001b[39m\u001b[38;5;124m\"\u001b[39m: \u001b[38;5;124m\"\u001b[39m\u001b[38;5;124mbrunel-py-in\u001b[39m\u001b[38;5;124m\"\u001b[39m,\n\u001b[1;32m      7\u001b[0m                           \u001b[38;5;124m\"\u001b[39m\u001b[38;5;124mwithtime\u001b[39m\u001b[38;5;124m\"\u001b[39m: \u001b[38;5;28;01mTrue\u001b[39;00m,\n\u001b[1;32m      8\u001b[0m                           \u001b[38;5;124m\"\u001b[39m\u001b[38;5;124mwithgid\u001b[39m\u001b[38;5;124m\"\u001b[39m: \u001b[38;5;28;01mTrue\u001b[39;00m,\n\u001b[1;32m      9\u001b[0m                           \u001b[38;5;124m\"\u001b[39m\u001b[38;5;124mto_file\u001b[39m\u001b[38;5;124m\"\u001b[39m: \u001b[38;5;28;01mTrue\u001b[39;00m}])\n\u001b[1;32m     11\u001b[0m \u001b[38;5;28mprint\u001b[39m(\u001b[38;5;124m\"\u001b[39m\u001b[38;5;124mConnecting devices\u001b[39m\u001b[38;5;124m\"\u001b[39m)\n",
      "File \u001b[0;32m/usr/lib/python3.12/site-packages/nest/ll_api.py:216\u001b[0m, in \u001b[0;36mstack_checker.<locals>.stack_checker_func\u001b[0;34m(*args, **kwargs)\u001b[0m\n\u001b[1;32m    213\u001b[0m \u001b[38;5;129m@functools\u001b[39m\u001b[38;5;241m.\u001b[39mwraps(f)\n\u001b[1;32m    214\u001b[0m \u001b[38;5;28;01mdef\u001b[39;00m \u001b[38;5;21mstack_checker_func\u001b[39m(\u001b[38;5;241m*\u001b[39margs, \u001b[38;5;241m*\u001b[39m\u001b[38;5;241m*\u001b[39mkwargs):\n\u001b[1;32m    215\u001b[0m     \u001b[38;5;28;01mif\u001b[39;00m \u001b[38;5;129;01mnot\u001b[39;00m get_debug():\n\u001b[0;32m--> 216\u001b[0m         \u001b[38;5;28;01mreturn\u001b[39;00m \u001b[43mf\u001b[49m\u001b[43m(\u001b[49m\u001b[38;5;241;43m*\u001b[39;49m\u001b[43margs\u001b[49m\u001b[43m,\u001b[49m\u001b[43m \u001b[49m\u001b[38;5;241;43m*\u001b[39;49m\u001b[38;5;241;43m*\u001b[39;49m\u001b[43mkwargs\u001b[49m\u001b[43m)\u001b[49m\n\u001b[1;32m    217\u001b[0m     \u001b[38;5;28;01melse\u001b[39;00m:\n\u001b[1;32m    218\u001b[0m         sr(\u001b[38;5;124m\"\u001b[39m\u001b[38;5;124mcount\u001b[39m\u001b[38;5;124m\"\u001b[39m)\n",
      "File \u001b[0;32m/usr/lib/python3.12/site-packages/nest/lib/hl_api_info.py:315\u001b[0m, in \u001b[0;36mSetStatus\u001b[0;34m(nodes, params, val)\u001b[0m\n\u001b[1;32m    313\u001b[0m     sr(\u001b[38;5;124m\"\u001b[39m\u001b[38;5;124mTranspose \u001b[39m\u001b[38;5;124m{\u001b[39m\u001b[38;5;124m arrayload pop SetStatus } forall\u001b[39m\u001b[38;5;124m\"\u001b[39m)\n\u001b[1;32m    314\u001b[0m \u001b[38;5;28;01melse\u001b[39;00m:\n\u001b[0;32m--> 315\u001b[0m     \u001b[43msli_func\u001b[49m\u001b[43m(\u001b[49m\u001b[38;5;124;43m\"\u001b[39;49m\u001b[38;5;124;43mSetStatus\u001b[39;49m\u001b[38;5;124;43m\"\u001b[39;49m\u001b[43m,\u001b[49m\u001b[43m \u001b[49m\u001b[43mnodes\u001b[49m\u001b[43m,\u001b[49m\u001b[43m \u001b[49m\u001b[43mparams\u001b[49m\u001b[43m)\u001b[49m\n",
      "File \u001b[0;32m/usr/lib/python3.12/site-packages/nest/ll_api.py:152\u001b[0m, in \u001b[0;36msli_func\u001b[0;34m(func, *args, **kwargs)\u001b[0m\n\u001b[1;32m    150\u001b[0m sli_push(args)  \u001b[38;5;66;03m# push array of arguments on SLI stack\u001b[39;00m\n\u001b[1;32m    151\u001b[0m sli_push(func)  \u001b[38;5;66;03m# push command string\u001b[39;00m\n\u001b[0;32m--> 152\u001b[0m \u001b[43msli_run\u001b[49m\u001b[43m(\u001b[49m\u001b[43mslifun\u001b[49m\u001b[43m)\u001b[49m  \u001b[38;5;66;03m# SLI support code to execute func on args\u001b[39;00m\n\u001b[1;32m    153\u001b[0m result \u001b[38;5;241m=\u001b[39m sli_pop()  \u001b[38;5;66;03m# return value is an array\u001b[39;00m\n\u001b[1;32m    155\u001b[0m \u001b[38;5;28;01mif\u001b[39;00m \u001b[38;5;129;01mnot\u001b[39;00m result:\n",
      "File \u001b[0;32m/usr/lib/python3.12/site-packages/nest/ll_api.py:103\u001b[0m, in \u001b[0;36mcatching_sli_run\u001b[0;34m(cmd)\u001b[0m\n\u001b[1;32m    100\u001b[0m engine\u001b[38;5;241m.\u001b[39mrun(\u001b[38;5;124m\"\u001b[39m\u001b[38;5;124mclear\u001b[39m\u001b[38;5;124m\"\u001b[39m)\n\u001b[1;32m    102\u001b[0m exceptionCls \u001b[38;5;241m=\u001b[39m \u001b[38;5;28mgetattr\u001b[39m(kernel\u001b[38;5;241m.\u001b[39mNESTErrors, errorname)\n\u001b[0;32m--> 103\u001b[0m \u001b[38;5;28;01mraise\u001b[39;00m exceptionCls(commandname, message)\n",
      "\u001b[0;31mNESTErrors.DictError\u001b[0m: DictError in SLI function SetStatus_id: Unused dictionary items:  withtime withgid to_file"
     ]
    }
   ],
   "source": [
    "nest.SetStatus(espikes, [{\"label\": \"brunel-py-ex\",\n",
    "                          \"withtime\": True,\n",
    "                          \"withgid\": True,\n",
    "                          \"to_file\": True}])\n",
    "\n",
    "nest.SetStatus(ispikes, [{\"label\": \"brunel-py-in\",\n",
    "                          \"withtime\": True,\n",
    "                          \"withgid\": True,\n",
    "                          \"to_file\": True}])\n",
    "\n",
    "print(\"Connecting devices\")"
   ]
  },
  {
   "cell_type": "code",
   "execution_count": 16,
   "metadata": {},
   "outputs": [],
   "source": [
    "nest.CopyModel(\"static_synapse\", \"excitatory\",\n",
    "               {\"weight\": J_ex, \"delay\": delay})\n",
    "nest.CopyModel(\"static_synapse\", \"inhibitory\",\n",
    "               {\"weight\": J_in, \"delay\": delay})"
   ]
  },
  {
   "cell_type": "code",
   "execution_count": 17,
   "metadata": {},
   "outputs": [],
   "source": [
    "nest.Connect(noise, nodes_ex, syn_spec=\"excitatory\")\n",
    "nest.Connect(noise, nodes_in, syn_spec=\"excitatory\")\n",
    "\n",
    "#neuron test noise\n",
    "nest.Connect(noise, neuron_test, syn_spec=\"excitatory\")"
   ]
  },
  {
   "cell_type": "code",
   "execution_count": 18,
   "metadata": {},
   "outputs": [],
   "source": [
    "#connecting multimeters\n",
    "#nest.Connect(multimeter_neuron, neuron_test)\n",
    "nest.Connect(multimeter_network_E, nodes_ex)\n",
    "nest.Connect(multimeter_network_I, nodes_in)"
   ]
  },
  {
   "cell_type": "code",
   "execution_count": 19,
   "metadata": {},
   "outputs": [],
   "source": [
    "#connect spike detector\n",
    "nest.Connect(nodes_ex + nodes_in, sp_detector, syn_spec=\"excitatory\")"
   ]
  },
  {
   "cell_type": "code",
   "execution_count": 20,
   "metadata": {},
   "outputs": [
    {
     "name": "stdout",
     "output_type": "stream",
     "text": [
      "Connecting network\n",
      "Excitatory connections\n"
     ]
    }
   ],
   "source": [
    "nest.Connect(nodes_ex[:N_rec], espikes, syn_spec=\"excitatory\")\n",
    "nest.Connect(nodes_in[:N_rec], ispikes, syn_spec=\"excitatory\")\n",
    "\n",
    "print(\"Connecting network\")\n",
    "\n",
    "print(\"Excitatory connections\")"
   ]
  },
  {
   "cell_type": "code",
   "execution_count": 21,
   "metadata": {},
   "outputs": [
    {
     "name": "stdout",
     "output_type": "stream",
     "text": [
      "Inhibitory connections\n"
     ]
    }
   ],
   "source": [
    "conn_params_ex = {'rule': 'fixed_indegree', 'indegree': CE}\n",
    "nest.Connect(nodes_ex, nodes_ex + nodes_in, conn_params_ex, \"excitatory\")\n",
    "\n",
    "print(\"Inhibitory connections\")"
   ]
  },
  {
   "cell_type": "code",
   "execution_count": 22,
   "metadata": {},
   "outputs": [],
   "source": [
    "conn_params_in = {'rule': 'fixed_indegree', 'indegree': CI}\n",
    "nest.Connect(nodes_in, nodes_ex + nodes_in, conn_params_in, \"inhibitory\")"
   ]
  },
  {
   "cell_type": "code",
   "execution_count": 23,
   "metadata": {},
   "outputs": [],
   "source": [
    "endbuild = time.time()"
   ]
  },
  {
   "cell_type": "code",
   "execution_count": 26,
   "metadata": {},
   "outputs": [
    {
     "name": "stdout",
     "output_type": "stream",
     "text": [
      "Simulating\n"
     ]
    }
   ],
   "source": [
    "print(\"Simulating\")\n",
    "\n",
    "nest.Simulate(simtime)"
   ]
  },
  {
   "cell_type": "code",
   "execution_count": 27,
   "metadata": {},
   "outputs": [],
   "source": [
    "endsimulate = time.time()"
   ]
  },
  {
   "cell_type": "code",
   "execution_count": 28,
   "metadata": {},
   "outputs": [],
   "source": [
    "events_ex = nest.GetStatus(espikes, \"n_events\")[0]\n",
    "events_in = nest.GetStatus(ispikes, \"n_events\")[0]"
   ]
  },
  {
   "cell_type": "code",
   "execution_count": 29,
   "metadata": {},
   "outputs": [],
   "source": [
    "rate_ex = events_ex / simtime * 1000.0 / N_rec\n",
    "rate_in = events_in / simtime * 1000.0 / N_rec"
   ]
  },
  {
   "cell_type": "code",
   "execution_count": 30,
   "metadata": {},
   "outputs": [],
   "source": [
    "num_synapses = (nest.GetDefaults(\"excitatory\")[\"num_connections\"] +\n",
    "                nest.GetDefaults(\"inhibitory\")[\"num_connections\"])"
   ]
  },
  {
   "cell_type": "code",
   "execution_count": 31,
   "metadata": {},
   "outputs": [],
   "source": [
    "build_time = endbuild - startbuild\n",
    "sim_time = endsimulate - endbuild"
   ]
  },
  {
   "cell_type": "code",
   "execution_count": 32,
   "metadata": {},
   "outputs": [
    {
     "name": "stdout",
     "output_type": "stream",
     "text": [
      "Brunel network simulation (Python)\n",
      "Number of neurons : 1250\n",
      "Number of synapses: 158851\n",
      "       Exitatory  : 126250\n",
      "       Inhibitory : 31250\n",
      "Excitatory rate   : 215.15 Hz\n",
      "Inhibitory rate   : 213.38 Hz\n",
      "Building time     : 42.04 s\n",
      "Simulation time   : 168.02 s\n"
     ]
    }
   ],
   "source": [
    "print(\"Brunel network simulation (Python)\")\n",
    "print(\"Number of neurons : {0}\".format(N_neurons))\n",
    "print(\"Number of synapses: {0}\".format(num_synapses))\n",
    "print(\"       Exitatory  : {0}\".format(int(CE * N_neurons) + N_neurons))\n",
    "print(\"       Inhibitory : {0}\".format(int(CI * N_neurons)))\n",
    "print(\"Excitatory rate   : %.2f Hz\" % rate_ex)\n",
    "print(\"Inhibitory rate   : %.2f Hz\" % rate_in)\n",
    "print(\"Building time     : %.2f s\" % build_time)\n",
    "print(\"Simulation time   : %.2f s\" % sim_time)"
   ]
  },
  {
   "cell_type": "code",
   "execution_count": null,
   "metadata": {},
   "outputs": [
    {
     "name": "stderr",
     "output_type": "stream",
     "text": [
      "/tmp/ipykernel_4900/1493148879.py:1: MatplotlibDeprecationWarning:The seaborn styles shipped by Matplotlib are deprecated since 3.6, as they no longer correspond to the styles shipped by seaborn. However, they will remain available as 'seaborn-v0_8-<style>'. Alternatively, directly use the seaborn API instead.\n"
     ]
    },
    {
     "data": {
      "text/plain": [
       "[<matplotlib.lines.Line2D at 0x7f1e32b74370>]"
      ]
     },
     "execution_count": 31,
     "metadata": {},
     "output_type": "execute_result"
    },
    {
     "data": {
      "image/png": "[encoded data removed]",
      "text/plain": [
       "<Figure size 800x550 with 2 Axes>"
      ]
     },
     "metadata": {},
     "output_type": "display_data"
    }
   ],
   "source": [
    "plt.style.use('seaborn')\n",
    "nest.raster_plot.from_device(espikes, hist=True, hist_binwidth=0.5)"
   ]
  },
  {
   "cell_type": "markdown",
   "metadata": {},
   "source": [
    "Following blocks are for testig the whole process. signals and ..."
   ]
  },
  {
   "cell_type": "raw",
   "metadata": {},
   "source": [
    "dmm_neuron = nest.GetStatus(multimeter_neuron)[0]\n",
    "Vms_neuron = dmm_neuron[\"events\"][\"V_m\"]\n",
    "ts_neuron = dmm_neuron[\"events\"][\"times\"]\n",
    "\n",
    "plt.figure(2)\n",
    "plt.plot(ts_neuron, Vms_neuron, label = \"isolated\")\n",
    "plt.show()"
   ]
  },
  {
   "cell_type": "raw",
   "metadata": {},
   "source": [
    "dmm_E = nest.GetStatus(multimeter_network_E)[0]\n",
    "Vms_E = dmm_E[\"events\"][\"V_m\"]\n",
    "ts_E = dmm_E[\"events\"][\"times\"]\n",
    "\n",
    "plt.figure(2)\n",
    "plt.plot(ts_E, Vms_E, label = \"excitatory\", color='g')\n",
    "plt.show()"
   ]
  },
  {
   "cell_type": "raw",
   "metadata": {},
   "source": [
    "dmm_I = nest.GetStatus(multimeter_network_I)[0]\n",
    "Vms_I = dmm_I[\"events\"][\"V_m\"]\n",
    "ts_I = dmm_I[\"events\"][\"times\"]\n",
    "\n",
    "plt.figure(2)\n",
    "plt.plot(ts_I, Vms_I, label = \"inhibitory\", color='r')\n",
    "plt.show()\n",
    "plt.legend()"
   ]
  },
  {
   "cell_type": "code",
   "execution_count": 33,
   "metadata": {},
   "outputs": [],
   "source": [
    "#reading spike detector\n",
    "sp_detector_data = nest.GetStatus(sp_detector, \"events\")[0]\n",
    "sp_times = sp_detector_data[\"times\"]\n",
    "sp_senders = sp_detector_data[\"senders\"]"
   ]
  },
  {
   "cell_type": "code",
   "execution_count": null,
   "metadata": {},
   "outputs": [],
   "source": [
    "np.save(\"sp_times-60e6-ms\", sp_times)\n",
    "np.save(\"sp_senders-60e6-ms\", sp_senders)"
   ]
  },
  {
   "cell_type": "markdown",
   "metadata": {},
   "source": [
    "This block may get improved as submatrix selection which had done for problem of hidden nodes."
   ]
  },
  {
   "cell_type": "code",
   "execution_count": 34,
   "metadata": {},
   "outputs": [],
   "source": [
    "#Get Connectivity matrix\n",
    "conn_tuple = nest.GetConnections(source= nodes_ex+nodes_in, target=nodes_ex+nodes_in)\n",
    "\n",
    "conn_matrix = np.zeros((N_neurons, N_neurons))\n",
    "\n",
    "sources = nest.GetStatus(conn_tuple, 'source')\n",
    "targets = nest.GetStatus(conn_tuple, 'target')\n",
    "weights = nest.GetStatus(conn_tuple, 'weight')\n",
    "\n",
    "counter = 0\n",
    "\n",
    "for i, j in zip(sources, targets):\n",
    "    conn_matrix[j-1, i-1] = weights[counter]\n",
    "    counter+=1\n",
    "    \n",
    "np.save(\"connectivity-60e6-ms\", conn_matrix)"
   ]
  },
  {
   "cell_type": "code",
   "execution_count": 35,
   "metadata": {},
   "outputs": [
    {
     "data": {
      "text/plain": [
       "(1250, 10000)"
      ]
     },
     "execution_count": 35,
     "metadata": {},
     "output_type": "execute_result"
    }
   ],
   "source": [
    "spikes = np.histogram2d(sp_senders, sp_times, bins=[range(1, 1252), np.arange(0, simtime+1, 1)])[0]\n",
    "\n",
    "#np.save(\"spikes-60e6-ms\", spikes)\n",
    "np.shape(spikes)"
   ]
  },
  {
   "cell_type": "code",
   "execution_count": 36,
   "metadata": {},
   "outputs": [
    {
     "ename": "AttributeError",
     "evalue": "'numpy.ndarray' object has no attribute 'to_file'",
     "output_type": "error",
     "traceback": [
      "\u001b[0;31m---------------------------------------------------------------------------\u001b[0m",
      "\u001b[0;31mAttributeError\u001b[0m                            Traceback (most recent call last)",
      "Cell \u001b[0;32mIn[36], line 1\u001b[0m\n\u001b[0;32m----> 1\u001b[0m \u001b[43mspikes\u001b[49m\u001b[38;5;241;43m.\u001b[39;49m\u001b[43mto_file\u001b[49m(\u001b[38;5;124m\"\u001b[39m\u001b[38;5;124mspikes.h5\u001b[39m\u001b[38;5;124m\"\u001b[39m, \u001b[38;5;124m\"\u001b[39m\u001b[38;5;124mw\u001b[39m\u001b[38;5;124m\"\u001b[39m)\n",
      "\u001b[0;31mAttributeError\u001b[0m: 'numpy.ndarray' object has no attribute 'to_file'"
     ]
    }
   ],
   "source": [
    "spikes.to_file(\"spikes.h5\", \"w\")"
   ]
  },
  {
   "cell_type": "raw",
   "metadata": {},
   "source": [
    "plt.figure(3)\n",
    "plt.imshow(conn_matrix)\n",
    "plt.show()"
   ]
  },
  {
   "cell_type": "markdown",
   "metadata": {},
   "source": [
    "This codes has been left here to be used later."
   ]
  },
  {
   "cell_type": "code",
   "execution_count": null,
   "metadata": {},
   "outputs": [],
   "source": [
    "with open(\"runs_variable.csv\", \"w+\") as csvfile:\n",
    "    fieldnames = [\"sim_time\", \"order\", \"eta\", \"epsilon\", \"g\", \"j\", \"p_rate\", \"rate_ex\", \"rate_in\", \"num_syn\"]\n",
    "    writer = csv.DictWriter(csvfile, fieldnames=fieldnames)\n",
    "    writer.writeheader()"
   ]
  },
  {
   "cell_type": "code",
   "execution_count": null,
   "metadata": {},
   "outputs": [],
   "source": [
    "#writing multiple runs variables into a csv, it should be merged with the correlation results in the var nb.\n",
    "fieldnames = [\"sim_time\", \"order\", \"eta\", \"epsilon\", \"g\", \"j\", \"p_rate\", \"rate_ex\", \"rate_in\", \"num_syn\"]\n",
    "variable_dict = {\"sim_time\": simtime, \"order\": order, \"eta\": eta, \"epsilon\": epsilon, \"g\": g, \"j\": J,\n",
    "                 \"p_rate\": p_rate, \"rate_ex\": rate_ex, \"rate_in\": rate_in, \"num_syn\": num_synapses}\n",
    "\n",
    "with open(\"runs_variable.csv\", \"a\") as csvfile:\n",
    "    writer = csv.DictWriter(csvfile, fieldnames=fieldnames)\n",
    "    writer.writerow(variable_dict)"
   ]
  }
 ],
 "metadata": {
  "kernelspec": {
   "display_name": "phd-env",
   "language": "python",
   "name": "python3"
  },
  "language_info": {
   "codemirror_mode": {
    "name": "ipython",
    "version": 3
   },
   "file_extension": ".py",
   "mimetype": "text/x-python",
   "name": "python",
   "nbconvert_exporter": "python",
   "pygments_lexer": "ipython3",
   "version": "3.12.3"
  }
 },
 "nbformat": 4,
 "nbformat_minor": 2
}
