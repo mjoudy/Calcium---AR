{
 "cells": [
  {
   "cell_type": "code",
   "execution_count": 8,
   "metadata": {},
   "outputs": [],
   "source": [
    "import numpy as np\n",
    "import dask.array as da\n",
    "from dask.distributed import Client\n",
    "from functions import kernel_est_funcs as kef"
   ]
  },
  {
   "cell_type": "code",
   "execution_count": 9,
   "metadata": {},
   "outputs": [],
   "source": [
    "spikes = np.load('data/spikes-10e4-ms.npy')"
   ]
  },
  {
   "cell_type": "code",
   "execution_count": 14,
   "metadata": {},
   "outputs": [
    {
     "name": "stderr",
     "output_type": "stream",
     "text": [
      "/home/mjoudy/Documents/codes/0-PhD Project/Calcium---AR/phd-env/lib/python3.12/site-packages/distributed/node.py:187: UserWarning: Port 8787 is already in use.\n",
      "Perhaps you already have a cluster running?\n",
      "Hosting the HTTP server on port 42097 instead\n",
      "  warnings.warn(\n"
     ]
    },
    {
     "ename": "ValueError",
     "evalue": "`dtype` inference failed in `map_blocks`.\n\nPlease specify the dtype explicitly using the `dtype` kwarg.\n\nOriginal error is below:\n------------------------\nIndexError('index 500 is out of bounds for axis 0 with size 1')\n\nTraceback:\n---------\n  File \"/home/mjoudy/Documents/codes/0-PhD Project/Calcium---AR/phd-env/lib/python3.12/site-packages/dask/array/core.py\", line 459, in apply_infer_dtype\n    o = func(*args, **kwargs)\n        ^^^^^^^^^^^^^^^^^^^^^\n  File \"/home/mjoudy/Documents/codes/0-PhD Project/Calcium---AR/notebooks - analysis/functions/kernel_est_funcs.py\", line 50, in sim_calcium\n    spikes = spikes[neuron_id, wup_time:]\n             ~~~~~~^^^^^^^^^^^^^^^^^^^^^^\n",
     "output_type": "error",
     "traceback": [
      "\u001b[0;31m---------------------------------------------------------------------------\u001b[0m",
      "\u001b[0;31mValueError\u001b[0m                                Traceback (most recent call last)",
      "Cell \u001b[0;32mIn[14], line 27\u001b[0m\n\u001b[1;32m      3\u001b[0m \u001b[38;5;124;03m'''\u001b[39;00m\n\u001b[1;32m      4\u001b[0m \u001b[38;5;124;03m# Define Process 1\u001b[39;00m\n\u001b[1;32m      5\u001b[0m \u001b[38;5;124;03mdef process_1(block):\u001b[39;00m\n\u001b[0;32m   (...)\u001b[0m\n\u001b[1;32m     24\u001b[0m \u001b[38;5;124;03mresult = processed_2.compute()\u001b[39;00m\n\u001b[1;32m     25\u001b[0m \u001b[38;5;124;03m'''\u001b[39;00m\n\u001b[1;32m     26\u001b[0m dask_array \u001b[38;5;241m=\u001b[39m da\u001b[38;5;241m.\u001b[39mfrom_array(spikes, chunks\u001b[38;5;241m=\u001b[39m(\u001b[38;5;241m1250\u001b[39m, \u001b[38;5;241m10000\u001b[39m))\n\u001b[0;32m---> 27\u001b[0m pr1 \u001b[38;5;241m=\u001b[39m \u001b[43mdask_array\u001b[49m\u001b[38;5;241;43m.\u001b[39;49m\u001b[43mmap_blocks\u001b[49m\u001b[43m(\u001b[49m\u001b[43mkef\u001b[49m\u001b[38;5;241;43m.\u001b[39;49m\u001b[43msim_calcium\u001b[49m\u001b[43m)\u001b[49m\n\u001b[1;32m     28\u001b[0m pr2 \u001b[38;5;241m=\u001b[39m pr1\u001b[38;5;241m.\u001b[39mmap_blocks(kef\u001b[38;5;241m.\u001b[39msmoothed_signals, win_len\u001b[38;5;241m=\u001b[39m\u001b[38;5;241m5\u001b[39m)\n\u001b[1;32m     29\u001b[0m result \u001b[38;5;241m=\u001b[39m pr2\u001b[38;5;241m.\u001b[39mcompute()\n",
      "File \u001b[0;32m~/Documents/codes/0-PhD Project/Calcium---AR/phd-env/lib/python3.12/site-packages/dask/array/core.py:2692\u001b[0m, in \u001b[0;36mArray.map_blocks\u001b[0;34m(self, func, *args, **kwargs)\u001b[0m\n\u001b[1;32m   2690\u001b[0m \u001b[38;5;129m@wraps\u001b[39m(map_blocks)\n\u001b[1;32m   2691\u001b[0m \u001b[38;5;28;01mdef\u001b[39;00m \u001b[38;5;21mmap_blocks\u001b[39m(\u001b[38;5;28mself\u001b[39m, func, \u001b[38;5;241m*\u001b[39margs, \u001b[38;5;241m*\u001b[39m\u001b[38;5;241m*\u001b[39mkwargs):\n\u001b[0;32m-> 2692\u001b[0m     \u001b[38;5;28;01mreturn\u001b[39;00m \u001b[43mmap_blocks\u001b[49m\u001b[43m(\u001b[49m\u001b[43mfunc\u001b[49m\u001b[43m,\u001b[49m\u001b[43m \u001b[49m\u001b[38;5;28;43mself\u001b[39;49m\u001b[43m,\u001b[49m\u001b[43m \u001b[49m\u001b[38;5;241;43m*\u001b[39;49m\u001b[43margs\u001b[49m\u001b[43m,\u001b[49m\u001b[43m \u001b[49m\u001b[38;5;241;43m*\u001b[39;49m\u001b[38;5;241;43m*\u001b[39;49m\u001b[43mkwargs\u001b[49m\u001b[43m)\u001b[49m\n",
      "File \u001b[0;32m~/Documents/codes/0-PhD Project/Calcium---AR/phd-env/lib/python3.12/site-packages/dask/array/core.py:816\u001b[0m, in \u001b[0;36mmap_blocks\u001b[0;34m(func, name, token, dtype, chunks, drop_axis, new_axis, enforce_ndim, meta, *args, **kwargs)\u001b[0m\n\u001b[1;32m    813\u001b[0m     \u001b[38;5;28;01mexcept\u001b[39;00m \u001b[38;5;167;01mException\u001b[39;00m:\n\u001b[1;32m    814\u001b[0m         \u001b[38;5;28;01mpass\u001b[39;00m\n\u001b[0;32m--> 816\u001b[0m     dtype \u001b[38;5;241m=\u001b[39m \u001b[43mapply_infer_dtype\u001b[49m\u001b[43m(\u001b[49m\u001b[43mfunc\u001b[49m\u001b[43m,\u001b[49m\u001b[43m \u001b[49m\u001b[43margs\u001b[49m\u001b[43m,\u001b[49m\u001b[43m \u001b[49m\u001b[43moriginal_kwargs\u001b[49m\u001b[43m,\u001b[49m\u001b[43m \u001b[49m\u001b[38;5;124;43m\"\u001b[39;49m\u001b[38;5;124;43mmap_blocks\u001b[39;49m\u001b[38;5;124;43m\"\u001b[39;49m\u001b[43m)\u001b[49m\n\u001b[1;32m    818\u001b[0m \u001b[38;5;28;01mif\u001b[39;00m drop_axis:\n\u001b[1;32m    819\u001b[0m     ndim_out \u001b[38;5;241m=\u001b[39m \u001b[38;5;28mlen\u001b[39m(out_ind)\n",
      "File \u001b[0;32m~/Documents/codes/0-PhD Project/Calcium---AR/phd-env/lib/python3.12/site-packages/dask/array/core.py:484\u001b[0m, in \u001b[0;36mapply_infer_dtype\u001b[0;34m(func, args, kwargs, funcname, suggest_dtype, nout)\u001b[0m\n\u001b[1;32m    482\u001b[0m     msg \u001b[38;5;241m=\u001b[39m \u001b[38;5;28;01mNone\u001b[39;00m\n\u001b[1;32m    483\u001b[0m \u001b[38;5;28;01mif\u001b[39;00m msg \u001b[38;5;129;01mis\u001b[39;00m \u001b[38;5;129;01mnot\u001b[39;00m \u001b[38;5;28;01mNone\u001b[39;00m:\n\u001b[0;32m--> 484\u001b[0m     \u001b[38;5;28;01mraise\u001b[39;00m \u001b[38;5;167;01mValueError\u001b[39;00m(msg)\n\u001b[1;32m    485\u001b[0m \u001b[38;5;28;01mreturn\u001b[39;00m \u001b[38;5;28mgetattr\u001b[39m(o, \u001b[38;5;124m\"\u001b[39m\u001b[38;5;124mdtype\u001b[39m\u001b[38;5;124m\"\u001b[39m, \u001b[38;5;28mtype\u001b[39m(o)) \u001b[38;5;28;01mif\u001b[39;00m nout \u001b[38;5;129;01mis\u001b[39;00m \u001b[38;5;28;01mNone\u001b[39;00m \u001b[38;5;28;01melse\u001b[39;00m \u001b[38;5;28mtuple\u001b[39m(e\u001b[38;5;241m.\u001b[39mdtype \u001b[38;5;28;01mfor\u001b[39;00m e \u001b[38;5;129;01min\u001b[39;00m o)\n",
      "\u001b[0;31mValueError\u001b[0m: `dtype` inference failed in `map_blocks`.\n\nPlease specify the dtype explicitly using the `dtype` kwarg.\n\nOriginal error is below:\n------------------------\nIndexError('index 500 is out of bounds for axis 0 with size 1')\n\nTraceback:\n---------\n  File \"/home/mjoudy/Documents/codes/0-PhD Project/Calcium---AR/phd-env/lib/python3.12/site-packages/dask/array/core.py\", line 459, in apply_infer_dtype\n    o = func(*args, **kwargs)\n        ^^^^^^^^^^^^^^^^^^^^^\n  File \"/home/mjoudy/Documents/codes/0-PhD Project/Calcium---AR/notebooks - analysis/functions/kernel_est_funcs.py\", line 50, in sim_calcium\n    spikes = spikes[neuron_id, wup_time:]\n             ~~~~~~^^^^^^^^^^^^^^^^^^^^^^\n"
     ]
    }
   ],
   "source": [
    "# Set up a Dask client for parallelism\n",
    "client = Client()\n",
    "'''\n",
    "# Define Process 1\n",
    "def process_1(block):\n",
    "    print(f\"Process 1 running on chunk with shape {block.shape}\")\n",
    "    return block * 2\n",
    "\n",
    "# Define Process 2\n",
    "def process_2(block):\n",
    "    print(f\"Process 2 running on chunk with shape {block.shape}\")\n",
    "    return block + 5\n",
    "\n",
    "# Create a large Dask array with chunks\n",
    "large_array = da.random.random((1000, 100000), chunks=(20, 10000))\n",
    "\n",
    "# Apply Process 1 using map_blocks\n",
    "processed_1 = large_array.map_blocks(process_1)\n",
    "\n",
    "# Apply Process 2 using map_blocks on the result of Process 1\n",
    "processed_2 = processed_1.map_blocks(process_2)\n",
    "\n",
    "# Trigger computation and track progress\n",
    "result = processed_2.compute()\n",
    "'''\n",
    "dask_array = da.from_array(spikes, chunks=(1250, 10000))\n",
    "pr1 = dask_array.map_blocks(kef.sim_calcium, neuron_id=-1)\n",
    "pr2 = pr1.map_blocks(kef.smoothed_signals, win_len=5)\n",
    "result = pr2.compute()\n",
    "\n",
    "# Check the result\n",
    "print(\"Processing completed!\")\n"
   ]
  },
  {
   "cell_type": "code",
   "execution_count": null,
   "metadata": {},
   "outputs": [],
   "source": []
  },
  {
   "cell_type": "code",
   "execution_count": null,
   "metadata": {},
   "outputs": [],
   "source": []
  }
 ],
 "metadata": {
  "kernelspec": {
   "display_name": "phd-env",
   "language": "python",
   "name": "python3"
  },
  "language_info": {
   "codemirror_mode": {
    "name": "ipython",
    "version": 3
   },
   "file_extension": ".py",
   "mimetype": "text/x-python",
   "name": "python",
   "nbconvert_exporter": "python",
   "pygments_lexer": "ipython3",
   "version": "3.12.3"
  }
 },
 "nbformat": 4,
 "nbformat_minor": 2
}
