{
  "cells": [
    {
      "cell_type": "markdown",
      "metadata": {},
      "source": [
        "\n",
        "# Random balanced network (delta synapses)\n",
        "\n",
        "This script simulates an excitatory and an inhibitory population on\n",
        "the basis of the network used in [1]_\n",
        "\n",
        "When connecting the network, customary synapse models are used, which\n",
        "allow for querying the number of created synapses. Using spike\n",
        "recorders, the average firing rates of the neurons in the populations\n",
        "are established. The building as well as the simulation time of the\n",
        "network are recorded.\n",
        "\n",
        "## References\n",
        "\n",
        ".. [1] Brunel N (2000). Dynamics of sparsely connected networks of excitatory and\n",
        "       inhibitory spiking neurons. Journal of Computational Neuroscience 8,\n",
        "       183-208.\n"
      ]
    },
    {
      "cell_type": "markdown",
      "metadata": {},
      "source": [
        "Import all necessary modules for simulation, analysis and plotting.\n",
        "\n"
      ]
    },
    {
      "cell_type": "code",
      "execution_count": 2,
      "metadata": {
        "collapsed": false
      },
      "outputs": [
        {
          "name": "stdout",
          "output_type": "stream",
          "text": [
            "\n",
            "              -- N E S T --\n",
            "  Copyright (C) 2004 The NEST Initiative\n",
            "\n",
            " Version: 3.8.0\n",
            " Built: Aug 27 2024 04:33:06\n",
            "\n",
            " This program is provided AS IS and comes with\n",
            " NO WARRANTY. See the file LICENSE for details.\n",
            "\n",
            " Problems or suggestions?\n",
            "   Visit https://www.nest-simulator.org\n",
            "\n",
            " Type 'nest.help()' to find out more about NEST.\n",
            "\n"
          ]
        }
      ],
      "source": [
        "import time\n",
        "\n",
        "import matplotlib.pyplot as plt\n",
        "import nest\n",
        "import nest.raster_plot\n",
        "\n",
        "nest.ResetKernel()"
      ]
    },
    {
      "cell_type": "markdown",
      "metadata": {},
      "source": [
        "Assigning the current time to a variable in order to determine the build\n",
        "time of the network.\n",
        "\n"
      ]
    },
    {
      "cell_type": "code",
      "execution_count": 3,
      "metadata": {},
      "outputs": [],
      "source": [
        "nest.SetKernelStatus({\"local_num_threads\": 8})"
      ]
    },
    {
      "cell_type": "code",
      "execution_count": 4,
      "metadata": {
        "collapsed": false
      },
      "outputs": [],
      "source": [
        "startbuild = time.time()"
      ]
    },
    {
      "cell_type": "markdown",
      "metadata": {},
      "source": [
        "Assigning the simulation parameters to variables.\n",
        "\n"
      ]
    },
    {
      "cell_type": "code",
      "execution_count": 5,
      "metadata": {
        "collapsed": false
      },
      "outputs": [],
      "source": [
        "dt = 0.1  # the resolution in ms\n",
        "simtime = 10000.0  # Simulation time in ms\n",
        "delay = 1.5  # synaptic delay in ms"
      ]
    },
    {
      "cell_type": "markdown",
      "metadata": {},
      "source": [
        "Definition of the parameters crucial for asynchronous irregular firing of\n",
        "the neurons.\n",
        "\n"
      ]
    },
    {
      "cell_type": "code",
      "execution_count": 6,
      "metadata": {
        "collapsed": false
      },
      "outputs": [],
      "source": [
        "g = 5.0  # ratio inhibitory weight/excitatory weight\n",
        "eta = 2.0  # external rate relative to threshold rate\n",
        "epsilon = 0.1  # connection probability"
      ]
    },
    {
      "cell_type": "markdown",
      "metadata": {},
      "source": [
        "Definition of the number of neurons in the network and the number of neurons\n",
        "recorded from\n",
        "\n"
      ]
    },
    {
      "cell_type": "code",
      "execution_count": 7,
      "metadata": {
        "collapsed": false
      },
      "outputs": [],
      "source": [
        "order = 250\n",
        "NE = 4 * order  # number of excitatory neurons\n",
        "NI = 1 * order  # number of inhibitory neurons\n",
        "N_neurons = NE + NI  # number of neurons in total\n",
        "N_rec = 50  # record from 50 neurons"
      ]
    },
    {
      "cell_type": "markdown",
      "metadata": {},
      "source": [
        "Definition of connectivity parameters\n",
        "\n"
      ]
    },
    {
      "cell_type": "code",
      "execution_count": 8,
      "metadata": {
        "collapsed": false
      },
      "outputs": [],
      "source": [
        "CE = int(epsilon * NE)  # number of excitatory synapses per neuron\n",
        "CI = int(epsilon * NI)  # number of inhibitory synapses per neuron\n",
        "C_tot = int(CI + CE)  # total number of synapses per neuron"
      ]
    },
    {
      "cell_type": "markdown",
      "metadata": {},
      "source": [
        "Initialization of the parameters of the integrate and fire neuron and the\n",
        "synapses. The parameters of the neuron are stored in a dictionary.\n",
        "\n"
      ]
    },
    {
      "cell_type": "code",
      "execution_count": 9,
      "metadata": {
        "collapsed": false
      },
      "outputs": [],
      "source": [
        "tauMem = 20.0  # time constant of membrane potential in ms\n",
        "theta = 20.0  # membrane threshold potential in mV\n",
        "neuron_params = {\"C_m\": 1.0, \"tau_m\": tauMem, \"t_ref\": 2.0, \"E_L\": 0.0, \"V_reset\": 0.0, \"V_m\": 0.0, \"V_th\": theta}\n",
        "J = 0.1  # postsynaptic amplitude in mV\n",
        "J_ex = J  # amplitude of excitatory postsynaptic potential\n",
        "J_in = -g * J_ex  # amplitude of inhibitory postsynaptic potential"
      ]
    },
    {
      "cell_type": "markdown",
      "metadata": {},
      "source": [
        "Definition of threshold rate, which is the external rate needed to fix the\n",
        "membrane potential around its threshold, the external firing rate and the\n",
        "rate of the poisson generator which is multiplied by the in-degree CE and\n",
        "converted to Hz by multiplication by 1000.\n",
        "\n"
      ]
    },
    {
      "cell_type": "code",
      "execution_count": 10,
      "metadata": {
        "collapsed": false
      },
      "outputs": [],
      "source": [
        "nu_th = theta / (J * CE * tauMem)\n",
        "nu_ex = eta * nu_th\n",
        "p_rate = 1000.0 * nu_ex * CE"
      ]
    },
    {
      "cell_type": "markdown",
      "metadata": {},
      "source": [
        "Configuration of the simulation kernel by the previously defined time\n",
        "resolution used in the simulation. Setting ``print_time`` to `True` prints the\n",
        "already processed simulation time as well as its percentage of the total\n",
        "simulation time.\n",
        "\n"
      ]
    },
    {
      "cell_type": "code",
      "execution_count": 11,
      "metadata": {
        "collapsed": false
      },
      "outputs": [
        {
          "name": "stdout",
          "output_type": "stream",
          "text": [
            "Building network\n",
            "\n",
            "Oct 17 16:06:03 SimulationManager::set_status [Info]: \n",
            "    Temporal resolution changed from 0.1 to 0.1 ms.\n"
          ]
        }
      ],
      "source": [
        "nest.resolution = dt\n",
        "nest.print_time = True\n",
        "nest.overwrite_files = True\n",
        "\n",
        "print(\"Building network\")"
      ]
    },
    {
      "cell_type": "markdown",
      "metadata": {},
      "source": [
        "Creation of the nodes using ``Create``. We store the returned handles in\n",
        "variables for later reference. Here the excitatory and inhibitory, as well\n",
        "as the poisson generator and two spike recorders. The spike recorders will\n",
        "later be used to record excitatory and inhibitory spikes. Properties of the\n",
        "nodes are specified via ``params``, which expects a dictionary.\n",
        "\n"
      ]
    },
    {
      "cell_type": "code",
      "execution_count": 12,
      "metadata": {
        "collapsed": false
      },
      "outputs": [],
      "source": [
        "nodes_ex = nest.Create(\"iaf_psc_delta\", NE, params=neuron_params)\n",
        "nodes_in = nest.Create(\"iaf_psc_delta\", NI, params=neuron_params)\n",
        "noise = nest.Create(\"poisson_generator\", params={\"rate\": p_rate})\n",
        "espikes = nest.Create(\"spike_recorder\")\n",
        "ispikes = nest.Create(\"spike_recorder\")"
      ]
    },
    {
      "cell_type": "markdown",
      "metadata": {},
      "source": [
        "Configuration of the spike recorders recording excitatory and inhibitory\n",
        "spikes by sending parameter dictionaries to ``set``. Setting the property\n",
        "`record_to` to *\"ascii\"* ensures that the spikes will be recorded to a file,\n",
        "whose name starts with the string assigned to the property `label`.\n",
        "\n"
      ]
    },
    {
      "cell_type": "code",
      "execution_count": 13,
      "metadata": {
        "collapsed": false
      },
      "outputs": [
        {
          "name": "stdout",
          "output_type": "stream",
          "text": [
            "Connecting devices\n"
          ]
        }
      ],
      "source": [
        "espikes.set(label=\"brunel-py-ex\", record_to=\"ascii\")\n",
        "ispikes.set(label=\"brunel-py-in\", record_to=\"ascii\")\n",
        "\n",
        "print(\"Connecting devices\")"
      ]
    },
    {
      "cell_type": "markdown",
      "metadata": {},
      "source": [
        "Definition of a synapse using ``CopyModel``, which expects the model name of\n",
        "a pre-defined synapse, the name of the customary synapse and an optional\n",
        "parameter dictionary. The parameters defined in the dictionary will be the\n",
        "default parameter for the customary synapse. Here we define one synapse for\n",
        "the excitatory and one for the inhibitory connections giving the\n",
        "previously defined weights and equal delays.\n",
        "\n"
      ]
    },
    {
      "cell_type": "code",
      "execution_count": 14,
      "metadata": {
        "collapsed": false
      },
      "outputs": [],
      "source": [
        "nest.CopyModel(\"static_synapse\", \"excitatory\", {\"weight\": J_ex, \"delay\": delay})\n",
        "nest.CopyModel(\"static_synapse\", \"inhibitory\", {\"weight\": J_in, \"delay\": delay})"
      ]
    },
    {
      "cell_type": "markdown",
      "metadata": {},
      "source": [
        "Connecting the previously defined poisson generator to the excitatory and\n",
        "inhibitory neurons using the excitatory synapse. Since the poisson\n",
        "generator is connected to all neurons in the population the default rule\n",
        "(# ``all_to_all``) of ``Connect`` is used. The synaptic properties are inserted\n",
        "via ``syn_spec`` which expects a dictionary when defining multiple variables\n",
        "or a string when simply using a pre-defined synapse.\n",
        "\n"
      ]
    },
    {
      "cell_type": "code",
      "execution_count": 15,
      "metadata": {
        "collapsed": false
      },
      "outputs": [],
      "source": [
        "nest.Connect(noise, nodes_ex, syn_spec=\"excitatory\")\n",
        "nest.Connect(noise, nodes_in, syn_spec=\"excitatory\")"
      ]
    },
    {
      "cell_type": "markdown",
      "metadata": {},
      "source": [
        "Connecting the first ``N_rec`` nodes of the excitatory and inhibitory\n",
        "population to the associated spike recorders using excitatory synapses.\n",
        "Here the same shortcut for the specification of the synapse as defined\n",
        "above is used.\n",
        "\n"
      ]
    },
    {
      "cell_type": "code",
      "execution_count": 16,
      "metadata": {
        "collapsed": false
      },
      "outputs": [
        {
          "name": "stdout",
          "output_type": "stream",
          "text": [
            "Connecting network\n",
            "Excitatory connections\n"
          ]
        }
      ],
      "source": [
        "nest.Connect(nodes_ex[:N_rec], espikes, syn_spec=\"excitatory\")\n",
        "nest.Connect(nodes_in[:N_rec], ispikes, syn_spec=\"excitatory\")\n",
        "\n",
        "print(\"Connecting network\")\n",
        "\n",
        "print(\"Excitatory connections\")"
      ]
    },
    {
      "cell_type": "markdown",
      "metadata": {},
      "source": [
        "Connecting the excitatory population to all neurons using the pre-defined\n",
        "excitatory synapse. Beforehand, the connection parameter are defined in a\n",
        "dictionary. Here we use the connection rule ``fixed_indegree``,\n",
        "which requires the definition of the indegree. Since the synapse\n",
        "specification is reduced to assigning the pre-defined excitatory synapse it\n",
        "suffices to insert a string.\n",
        "\n"
      ]
    },
    {
      "cell_type": "code",
      "execution_count": 17,
      "metadata": {
        "collapsed": false
      },
      "outputs": [
        {
          "name": "stdout",
          "output_type": "stream",
          "text": [
            "Inhibitory connections\n"
          ]
        }
      ],
      "source": [
        "conn_params_ex = {\"rule\": \"fixed_indegree\", \"indegree\": CE}\n",
        "nest.Connect(nodes_ex, nodes_ex + nodes_in, conn_params_ex, \"excitatory\")\n",
        "\n",
        "print(\"Inhibitory connections\")"
      ]
    },
    {
      "cell_type": "markdown",
      "metadata": {},
      "source": [
        "Connecting the inhibitory population to all neurons using the pre-defined\n",
        "inhibitory synapse. The connection parameters as well as the synapse\n",
        "parameters are defined analogously to the connection from the excitatory\n",
        "population defined above.\n",
        "\n"
      ]
    },
    {
      "cell_type": "code",
      "execution_count": 18,
      "metadata": {
        "collapsed": false
      },
      "outputs": [],
      "source": [
        "conn_params_in = {\"rule\": \"fixed_indegree\", \"indegree\": CI}\n",
        "nest.Connect(nodes_in, nodes_ex + nodes_in, conn_params_in, \"inhibitory\")"
      ]
    },
    {
      "cell_type": "markdown",
      "metadata": {},
      "source": [
        "Storage of the time point after the buildup of the network in a variable.\n",
        "\n"
      ]
    },
    {
      "cell_type": "code",
      "execution_count": 19,
      "metadata": {
        "collapsed": false
      },
      "outputs": [],
      "source": [
        "endbuild = time.time()"
      ]
    },
    {
      "cell_type": "markdown",
      "metadata": {},
      "source": [
        "Simulation of the network.\n",
        "\n"
      ]
    },
    {
      "cell_type": "code",
      "execution_count": null,
      "metadata": {
        "collapsed": false
      },
      "outputs": [
        {
          "name": "stdout",
          "output_type": "stream",
          "text": [
            "Simulating\n",
            "\n",
            "Oct 17 15:46:36 NodeManager::prepare_nodes [Info]: \n",
            "    Preparing 1253 nodes for simulation.\n",
            "\n",
            "Oct 17 15:46:36 SimulationManager::run [Warning]: \n",
            "    The requested simulation time is not an integer multiple of the minimal \n",
            "    delay in the network. This may result in inconsistent results under the \n",
            "    following conditions: (i) A network contains more than one source of \n",
            "    randomness, e.g., two different poisson_generators, and (ii) Simulate is \n",
            "    called repeatedly with simulation times that are not multiples of the \n",
            "    minimal delay.\n",
            "\n",
            "Oct 17 15:46:36 SimulationManager::start_updating_ [Info]: \n",
            "    Number of local nodes: 1253\n",
            "    Simulation time (ms): 10000\n",
            "    Number of OpenMP threads: 1\n",
            "    Not using MPI\n",
            "\n",
            "[  18% ] Model time: 1722.0 ms, Real-time factor: 1.1428"
          ]
        },
        {
          "ename": "KeyboardInterrupt",
          "evalue": "",
          "output_type": "error",
          "traceback": [
            "\u001b[0;31m---------------------------------------------------------------------------\u001b[0m",
            "\u001b[0;31mKeyboardInterrupt\u001b[0m                         Traceback (most recent call last)",
            "Cell \u001b[0;32mIn[20], line 3\u001b[0m\n\u001b[1;32m      1\u001b[0m \u001b[38;5;28mprint\u001b[39m(\u001b[38;5;124m\"\u001b[39m\u001b[38;5;124mSimulating\u001b[39m\u001b[38;5;124m\"\u001b[39m)\n\u001b[0;32m----> 3\u001b[0m \u001b[43mnest\u001b[49m\u001b[38;5;241;43m.\u001b[39;49m\u001b[43mSimulate\u001b[49m\u001b[43m(\u001b[49m\u001b[43msimtime\u001b[49m\u001b[43m)\u001b[49m\n",
            "File \u001b[0;32m~/miniconda3/envs/phd_conda/lib/python3.12/site-packages/nest/ll_api.py:216\u001b[0m, in \u001b[0;36mstack_checker.<locals>.stack_checker_func\u001b[0;34m(*args, **kwargs)\u001b[0m\n\u001b[1;32m    213\u001b[0m \u001b[38;5;129m@functools\u001b[39m\u001b[38;5;241m.\u001b[39mwraps(f)\n\u001b[1;32m    214\u001b[0m \u001b[38;5;28;01mdef\u001b[39;00m \u001b[38;5;21mstack_checker_func\u001b[39m(\u001b[38;5;241m*\u001b[39margs, \u001b[38;5;241m*\u001b[39m\u001b[38;5;241m*\u001b[39mkwargs):\n\u001b[1;32m    215\u001b[0m     \u001b[38;5;28;01mif\u001b[39;00m \u001b[38;5;129;01mnot\u001b[39;00m get_debug():\n\u001b[0;32m--> 216\u001b[0m         \u001b[38;5;28;01mreturn\u001b[39;00m \u001b[43mf\u001b[49m\u001b[43m(\u001b[49m\u001b[38;5;241;43m*\u001b[39;49m\u001b[43margs\u001b[49m\u001b[43m,\u001b[49m\u001b[43m \u001b[49m\u001b[38;5;241;43m*\u001b[39;49m\u001b[38;5;241;43m*\u001b[39;49m\u001b[43mkwargs\u001b[49m\u001b[43m)\u001b[49m\n\u001b[1;32m    217\u001b[0m     \u001b[38;5;28;01melse\u001b[39;00m:\n\u001b[1;32m    218\u001b[0m         sr(\u001b[38;5;124m\"\u001b[39m\u001b[38;5;124mcount\u001b[39m\u001b[38;5;124m\"\u001b[39m)\n",
            "File \u001b[0;32m~/miniconda3/envs/phd_conda/lib/python3.12/site-packages/nest/lib/hl_api_simulation.py:65\u001b[0m, in \u001b[0;36mSimulate\u001b[0;34m(t)\u001b[0m\n\u001b[1;32m     49\u001b[0m \u001b[38;5;250m\u001b[39m\u001b[38;5;124;03m\"\"\"Simulate the network for `t` milliseconds.\u001b[39;00m\n\u001b[1;32m     50\u001b[0m \n\u001b[1;32m     51\u001b[0m \u001b[38;5;124;03m`Simulate(t)` runs `Prepare()`, `Run(t)`, and `Cleanup()` in this order.\u001b[39;00m\n\u001b[0;32m   (...)\u001b[0m\n\u001b[1;32m     61\u001b[0m \n\u001b[1;32m     62\u001b[0m \u001b[38;5;124;03m\"\"\"\u001b[39;00m\n\u001b[1;32m     64\u001b[0m sps(\u001b[38;5;28mfloat\u001b[39m(t))\n\u001b[0;32m---> 65\u001b[0m \u001b[43msr\u001b[49m\u001b[43m(\u001b[49m\u001b[38;5;124;43m\"\u001b[39;49m\u001b[38;5;124;43mms Simulate\u001b[39;49m\u001b[38;5;124;43m\"\u001b[39;49m\u001b[43m)\u001b[49m\n",
            "File \u001b[0;32m~/miniconda3/envs/phd_conda/lib/python3.12/site-packages/nest/ll_api.py:95\u001b[0m, in \u001b[0;36mcatching_sli_run\u001b[0;34m(cmd)\u001b[0m\n\u001b[1;32m     81\u001b[0m \u001b[38;5;28;01mdef\u001b[39;00m \u001b[38;5;21mcatching_sli_run\u001b[39m(cmd):\n\u001b[1;32m     82\u001b[0m \u001b[38;5;250m    \u001b[39m\u001b[38;5;124;03m\"\"\"Send a command string to the NEST kernel to be executed, catch\u001b[39;00m\n\u001b[1;32m     83\u001b[0m \u001b[38;5;124;03m    SLI errors and re-raise them in Python.\u001b[39;00m\n\u001b[1;32m     84\u001b[0m \n\u001b[0;32m   (...)\u001b[0m\n\u001b[1;32m     92\u001b[0m \u001b[38;5;124;03m        SLI errors are bubbled to the Python API as NESTErrors.\u001b[39;00m\n\u001b[1;32m     93\u001b[0m \u001b[38;5;124;03m    \"\"\"\u001b[39;00m\n\u001b[0;32m---> 95\u001b[0m     \u001b[43mengine\u001b[49m\u001b[38;5;241;43m.\u001b[39;49m\u001b[43mrun\u001b[49m\u001b[43m(\u001b[49m\u001b[38;5;124;43m\"\u001b[39;49m\u001b[38;5;124;43m{\u001b[39;49m\u001b[38;5;132;43;01m%s\u001b[39;49;00m\u001b[38;5;124;43m} runprotected\u001b[39;49m\u001b[38;5;124;43m\"\u001b[39;49m\u001b[43m \u001b[49m\u001b[38;5;241;43m%\u001b[39;49m\u001b[43m \u001b[49m\u001b[43mcmd\u001b[49m\u001b[43m)\u001b[49m\n\u001b[1;32m     96\u001b[0m     \u001b[38;5;28;01mif\u001b[39;00m \u001b[38;5;129;01mnot\u001b[39;00m sli_pop():\n\u001b[1;32m     97\u001b[0m         errorname \u001b[38;5;241m=\u001b[39m sli_pop()\n",
            "\u001b[0;31mKeyboardInterrupt\u001b[0m: "
          ]
        }
      ],
      "source": [
        "print(\"Simulating\")\n",
        "\n",
        "nest.Simulate(simtime)"
      ]
    },
    {
      "cell_type": "markdown",
      "metadata": {},
      "source": [
        "Storage of the time point after the simulation of the network in a variable.\n",
        "\n"
      ]
    },
    {
      "cell_type": "code",
      "execution_count": null,
      "metadata": {
        "collapsed": false
      },
      "outputs": [],
      "source": [
        "endsimulate = time.time()"
      ]
    },
    {
      "cell_type": "markdown",
      "metadata": {},
      "source": [
        "Reading out the total number of spikes received from the spike recorder\n",
        "connected to the excitatory population and the inhibitory population.\n",
        "\n"
      ]
    },
    {
      "cell_type": "code",
      "execution_count": null,
      "metadata": {
        "collapsed": false
      },
      "outputs": [],
      "source": [
        "events_ex = espikes.n_events\n",
        "events_in = ispikes.n_events"
      ]
    },
    {
      "cell_type": "markdown",
      "metadata": {},
      "source": [
        "Calculation of the average firing rate of the excitatory and the inhibitory\n",
        "neurons by dividing the total number of recorded spikes by the number of\n",
        "neurons recorded from and the simulation time. The multiplication by 1000.0\n",
        "converts the unit 1/ms to 1/s=Hz.\n",
        "\n"
      ]
    },
    {
      "cell_type": "code",
      "execution_count": null,
      "metadata": {
        "collapsed": false
      },
      "outputs": [],
      "source": [
        "rate_ex = events_ex / simtime * 1000.0 / N_rec\n",
        "rate_in = events_in / simtime * 1000.0 / N_rec"
      ]
    },
    {
      "cell_type": "markdown",
      "metadata": {},
      "source": [
        "Reading out the number of connections established using the excitatory and\n",
        "inhibitory synapse model. The numbers are summed up resulting in the total\n",
        "number of synapses.\n",
        "\n"
      ]
    },
    {
      "cell_type": "code",
      "execution_count": null,
      "metadata": {
        "collapsed": false
      },
      "outputs": [],
      "source": [
        "num_synapses_ex = nest.GetDefaults(\"excitatory\")[\"num_connections\"]\n",
        "num_synapses_in = nest.GetDefaults(\"inhibitory\")[\"num_connections\"]\n",
        "num_synapses = num_synapses_ex + num_synapses_in"
      ]
    },
    {
      "cell_type": "markdown",
      "metadata": {},
      "source": [
        "Establishing the time it took to build and simulate the network by taking\n",
        "the difference of the pre-defined time variables.\n",
        "\n"
      ]
    },
    {
      "cell_type": "code",
      "execution_count": null,
      "metadata": {
        "collapsed": false
      },
      "outputs": [],
      "source": [
        "build_time = endbuild - startbuild\n",
        "sim_time = endsimulate - endbuild"
      ]
    },
    {
      "cell_type": "markdown",
      "metadata": {},
      "source": [
        "Printing the network properties, firing rates and building times.\n",
        "\n"
      ]
    },
    {
      "cell_type": "code",
      "execution_count": null,
      "metadata": {
        "collapsed": false
      },
      "outputs": [],
      "source": [
        "print(\"Brunel network simulation (Python)\")\n",
        "print(f\"Number of neurons : {N_neurons}\")\n",
        "print(f\"Number of synapses: {num_synapses}\")\n",
        "print(f\"       Excitatory : {num_synapses_ex}\")\n",
        "print(f\"       Inhibitory : {num_synapses_in}\")\n",
        "print(f\"Excitatory rate   : {rate_ex:.2f} Hz\")\n",
        "print(f\"Inhibitory rate   : {rate_in:.2f} Hz\")\n",
        "print(f\"Building time     : {build_time:.2f} s\")\n",
        "print(f\"Simulation time   : {sim_time:.2f} s\")"
      ]
    },
    {
      "cell_type": "markdown",
      "metadata": {},
      "source": [
        "Plot a raster of the excitatory neurons and a histogram.\n",
        "\n"
      ]
    },
    {
      "cell_type": "code",
      "execution_count": null,
      "metadata": {
        "collapsed": false
      },
      "outputs": [],
      "source": [
        "nest.raster_plot.from_device(espikes, hist=True)\n",
        "plt.show()"
      ]
    }
  ],
  "metadata": {
    "kernelspec": {
      "display_name": "phd_conda",
      "language": "python",
      "name": "python3"
    },
    "language_info": {
      "codemirror_mode": {
        "name": "ipython",
        "version": 3
      },
      "file_extension": ".py",
      "mimetype": "text/x-python",
      "name": "python",
      "nbconvert_exporter": "python",
      "pygments_lexer": "ipython3",
      "version": "3.12.7"
    }
  },
  "nbformat": 4,
  "nbformat_minor": 0
}
