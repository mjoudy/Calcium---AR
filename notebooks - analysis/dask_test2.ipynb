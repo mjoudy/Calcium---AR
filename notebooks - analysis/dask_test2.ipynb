{
 "cells": [
  {
   "cell_type": "code",
   "execution_count": 1,
   "id": "8f9f99da-ae92-492e-9fa0-ec6297aad77a",
   "metadata": {},
   "outputs": [],
   "source": [
    "import os\n",
    "import numpy as np\n",
    "import dask.array as da\n",
    "from dask.distributed import Client\n",
    "from functions import kernel_est_funcs as kef\n",
    "from functions import conn_inf_funcs as cif\n",
    "from functions import remove_outliers as ro\n",
    "import h5py\n",
    "\n",
    "import matplotlib.pyplot as plt\n",
    "import seaborn as sns\n",
    "sns.set()"
   ]
  },
  {
   "cell_type": "code",
   "execution_count": 2,
   "id": "5a560c39-17ec-4e23-9347-c58f536aa82f",
   "metadata": {},
   "outputs": [],
   "source": [
    "file_path = '/home/joudy/Documents/projects/data/spikes-2.h5'\n",
    "gt_path = '/home/joudy/Documents/projects/data/connectivity-h5-2.npy'"
   ]
  },
  {
   "cell_type": "code",
   "execution_count": 3,
   "id": "b5f05d7a-60ce-4cec-8ced-cc65b20c7714",
   "metadata": {},
   "outputs": [],
   "source": [
    "G = np.load(gt_path)"
   ]
  },
  {
   "cell_type": "code",
   "execution_count": 4,
   "id": "7a04754b-0492-447c-ad66-ab06874e3523",
   "metadata": {},
   "outputs": [
    {
     "name": "stdout",
     "output_type": "stream",
     "text": [
      "['spikes-ds']\n"
     ]
    },
    {
     "data": {
      "text/plain": [
       "(1250, 1000000)"
      ]
     },
     "execution_count": 4,
     "metadata": {},
     "output_type": "execute_result"
    }
   ],
   "source": [
    "spikes_hdf = h5py.File(file_path, 'r')\n",
    "print(list(spikes_hdf.keys()))\n",
    "spikes_train = spikes_hdf['spikes-ds']  \n",
    "spikes_train.shape"
   ]
  },
  {
   "cell_type": "code",
   "execution_count": 7,
   "id": "56975ab3-8d7e-4bb1-bf1f-d296a257bcd4",
   "metadata": {},
   "outputs": [
    {
     "name": "stderr",
     "output_type": "stream",
     "text": [
      "/home/joudy/miniconda3/envs/phd_conda/lib/python3.12/site-packages/distributed/node.py:187: UserWarning: Port 8787 is already in use.\n",
      "Perhaps you already have a cluster running?\n",
      "Hosting the HTTP server on port 45213 instead\n",
      "  warnings.warn(\n"
     ]
    },
    {
     "name": "stdout",
     "output_type": "stream",
     "text": [
      "Dask Dashboard: http://127.0.0.1:45213/status\n",
      "Processing completed!\n"
     ]
    }
   ],
   "source": [
    "client = Client()\n",
    "\n",
    "dashboard_link = client.dashboard_link\n",
    "print(f\"Dask Dashboard: {dashboard_link}\")\n",
    "import webbrowser\n",
    "# Optionally, open it automatically in the default browser\n",
    "webbrowser.open(dashboard_link)\n",
    "\n",
    "dask_array = da.from_array(spikes_train, chunks=('auto', 1000000))\n",
    "pr1 = dask_array.map_blocks(kef.dask_calcium, dtype=dask_array.dtype)\n",
    "pr2 = pr1.map_blocks(kef.dask_smooth, dtype=dask_array.dtype)\n",
    "#pr3 = pr2.map_blocks(cif.dask_conn_inf_LR, gt_path, dtype=dask_array.dtype)\n",
    "result = pr2.compute()\n",
    "\n",
    "\n",
    "# Check the result\n",
    "print(\"Processing completed!\")"
   ]
  },
  {
   "cell_type": "code",
   "execution_count": 9,
   "id": "21b43bdd-4053-43e9-97ba-710b74c455a2",
   "metadata": {},
   "outputs": [],
   "source": [
    "with h5py.File('feed-signal.h5', 'w') as hdf:\n",
    "    hdf.create_dataset('signals', data=result)"
   ]
  },
  {
   "cell_type": "code",
   "execution_count": null,
   "id": "1e83facb-b784-4b2d-8b19-ad147295abf9",
   "metadata": {},
   "outputs": [],
   "source": [
    "cor_result = cif.conn_inf_LR(result, gt_path)\n",
    "print(cor_result)"
   ]
  },
  {
   "cell_type": "markdown",
   "id": "69400463-f3f1-4bba-ac9a-7c7a8ba50025",
   "metadata": {},
   "source": [
    "!!! this should be test for a one-time run pipeline"
   ]
  },
  {
   "cell_type": "code",
   "execution_count": 6,
   "id": "a2bca7f6-1056-4fc1-aa2e-0b0776fbbd67",
   "metadata": {},
   "outputs": [
    {
     "name": "stderr",
     "output_type": "stream",
     "text": [
      "/home/joudy/miniconda3/envs/phd_conda/lib/python3.12/site-packages/distributed/node.py:187: UserWarning: Port 8787 is already in use.\n",
      "Perhaps you already have a cluster running?\n",
      "Hosting the HTTP server on port 41313 instead\n",
      "  warnings.warn(\n"
     ]
    },
    {
     "name": "stdout",
     "output_type": "stream",
     "text": [
      "Dask Dashboard: http://127.0.0.1:41313/status\n"
     ]
    },
    {
     "name": "stderr",
     "output_type": "stream",
     "text": [
      "2024-10-21 12:43:37,279 - distributed.worker - ERROR - Compute Failed\n",
      "Key:       ('dask_conn_inf_LR-54fe653b6dc9bc1100e8afcc11480969', 78, 0)\n",
      "State:     executing\n",
      "Function:  subgraph_callable-3621a2a46f3076373069776ab9a15a5d\n",
      "args:      ('/home/joudy/Documents/projects/data/connectivity-h5-2.npy', <HDF5 dataset \"spikes-ds\": shape (1250, 1000000), type \"<f8\">, (slice(1248, 1250, None), slice(0, 1000000, None)))\n",
      "kwargs:    {}\n",
      "Exception: \"ValueError('all the input array dimensions except for the concatenation axis must match exactly, but along dimension 1, the array at index 0 has size 6250000 and the array at index 1 has size 4')\"\n",
      "Traceback: '  File \"/home/joudy/miniconda3/envs/phd_conda/lib/python3.12/site-packages/dask/optimization.py\", line 1028, in __call__\\n    return core.get(self.dsk, self.outkey, dict(zip(self.inkeys, args)))\\n           ^^^^^^^^^^^^^^^^^^^^^^^^^^^^^^^^^^^^^^^^^^^^^^^^^^^^^^^^^^^^^\\n  File \"/home/joudy/miniconda3/envs/phd_conda/lib/python3.12/site-packages/dask/core.py\", line 163, in get\\n    result = _execute_task(task, cache)\\n             ^^^^^^^^^^^^^^^^^^^^^^^^^^\\n  File \"/home/joudy/miniconda3/envs/phd_conda/lib/python3.12/site-packages/dask/core.py\", line 133, in _execute_task\\n    return func(*(_execute_task(a, cache) for a in args))\\n           ^^^^^^^^^^^^^^^^^^^^^^^^^^^^^^^^^^^^^^^^^^^^^^\\n  File \"/home/joudy/Documents/projects/Calcium---AR/notebooks-analysis/functions/conn_inf_funcs.py\", line 73, in dask_conn_inf_LR\\n    corr_G_A = np.corrcoef(G.flatten(), A.flatten())[0, 1]\\n               ^^^^^^^^^^^^^^^^^^^^^^^^^^^^^^^^^^^^^\\n  File \"/home/joudy/miniconda3/envs/phd_conda/lib/python3.12/site-packages/numpy/lib/_function_base_impl.py\", line 2991, in corrcoef\\n    c = cov(x, y, rowvar, dtype=dtype)\\n        ^^^^^^^^^^^^^^^^^^^^^^^^^^^^^^\\n  File \"/home/joudy/miniconda3/envs/phd_conda/lib/python3.12/site-packages/numpy/lib/_function_base_impl.py\", line 2783, in cov\\n    X = np.concatenate((X, y), axis=0)\\n        ^^^^^^^^^^^^^^^^^^^^^^^^^^^^^^\\n'\n",
      "\n"
     ]
    },
    {
     "ename": "ValueError",
     "evalue": "all the input array dimensions except for the concatenation axis must match exactly, but along dimension 1, the array at index 0 has size 6250000 and the array at index 1 has size 4",
     "output_type": "error",
     "traceback": [
      "\u001b[0;31m---------------------------------------------------------------------------\u001b[0m",
      "\u001b[0;31mValueError\u001b[0m                                Traceback (most recent call last)",
      "Cell \u001b[0;32mIn[6], line 13\u001b[0m\n\u001b[1;32m     11\u001b[0m pr2 \u001b[38;5;241m=\u001b[39m pr1\u001b[38;5;241m.\u001b[39mmap_blocks(kef\u001b[38;5;241m.\u001b[39mdask_smooth, dtype\u001b[38;5;241m=\u001b[39mdask_array\u001b[38;5;241m.\u001b[39mdtype)\n\u001b[1;32m     12\u001b[0m pr3 \u001b[38;5;241m=\u001b[39m pr2\u001b[38;5;241m.\u001b[39mmap_blocks(cif\u001b[38;5;241m.\u001b[39mdask_conn_inf_LR, gt_path, dtype\u001b[38;5;241m=\u001b[39mdask_array\u001b[38;5;241m.\u001b[39mdtype)\n\u001b[0;32m---> 13\u001b[0m result \u001b[38;5;241m=\u001b[39m \u001b[43mpr3\u001b[49m\u001b[38;5;241;43m.\u001b[39;49m\u001b[43mcompute\u001b[49m\u001b[43m(\u001b[49m\u001b[43m)\u001b[49m\n\u001b[1;32m     16\u001b[0m \u001b[38;5;66;03m# Check the result\u001b[39;00m\n\u001b[1;32m     17\u001b[0m \u001b[38;5;28mprint\u001b[39m(\u001b[38;5;124m\"\u001b[39m\u001b[38;5;124mProcessing completed!\u001b[39m\u001b[38;5;124m\"\u001b[39m)\n",
      "File \u001b[0;32m~/miniconda3/envs/phd_conda/lib/python3.12/site-packages/dask/base.py:372\u001b[0m, in \u001b[0;36mDaskMethodsMixin.compute\u001b[0;34m(self, **kwargs)\u001b[0m\n\u001b[1;32m    348\u001b[0m \u001b[38;5;28;01mdef\u001b[39;00m \u001b[38;5;21mcompute\u001b[39m(\u001b[38;5;28mself\u001b[39m, \u001b[38;5;241m*\u001b[39m\u001b[38;5;241m*\u001b[39mkwargs):\n\u001b[1;32m    349\u001b[0m \u001b[38;5;250m    \u001b[39m\u001b[38;5;124;03m\"\"\"Compute this dask collection\u001b[39;00m\n\u001b[1;32m    350\u001b[0m \n\u001b[1;32m    351\u001b[0m \u001b[38;5;124;03m    This turns a lazy Dask collection into its in-memory equivalent.\u001b[39;00m\n\u001b[0;32m   (...)\u001b[0m\n\u001b[1;32m    370\u001b[0m \u001b[38;5;124;03m    dask.compute\u001b[39;00m\n\u001b[1;32m    371\u001b[0m \u001b[38;5;124;03m    \"\"\"\u001b[39;00m\n\u001b[0;32m--> 372\u001b[0m     (result,) \u001b[38;5;241m=\u001b[39m \u001b[43mcompute\u001b[49m\u001b[43m(\u001b[49m\u001b[38;5;28;43mself\u001b[39;49m\u001b[43m,\u001b[49m\u001b[43m \u001b[49m\u001b[43mtraverse\u001b[49m\u001b[38;5;241;43m=\u001b[39;49m\u001b[38;5;28;43;01mFalse\u001b[39;49;00m\u001b[43m,\u001b[49m\u001b[43m \u001b[49m\u001b[38;5;241;43m*\u001b[39;49m\u001b[38;5;241;43m*\u001b[39;49m\u001b[43mkwargs\u001b[49m\u001b[43m)\u001b[49m\n\u001b[1;32m    373\u001b[0m     \u001b[38;5;28;01mreturn\u001b[39;00m result\n",
      "File \u001b[0;32m~/miniconda3/envs/phd_conda/lib/python3.12/site-packages/dask/base.py:660\u001b[0m, in \u001b[0;36mcompute\u001b[0;34m(traverse, optimize_graph, scheduler, get, *args, **kwargs)\u001b[0m\n\u001b[1;32m    657\u001b[0m     postcomputes\u001b[38;5;241m.\u001b[39mappend(x\u001b[38;5;241m.\u001b[39m__dask_postcompute__())\n\u001b[1;32m    659\u001b[0m \u001b[38;5;28;01mwith\u001b[39;00m shorten_traceback():\n\u001b[0;32m--> 660\u001b[0m     results \u001b[38;5;241m=\u001b[39m \u001b[43mschedule\u001b[49m\u001b[43m(\u001b[49m\u001b[43mdsk\u001b[49m\u001b[43m,\u001b[49m\u001b[43m \u001b[49m\u001b[43mkeys\u001b[49m\u001b[43m,\u001b[49m\u001b[43m \u001b[49m\u001b[38;5;241;43m*\u001b[39;49m\u001b[38;5;241;43m*\u001b[39;49m\u001b[43mkwargs\u001b[49m\u001b[43m)\u001b[49m\n\u001b[1;32m    662\u001b[0m \u001b[38;5;28;01mreturn\u001b[39;00m repack([f(r, \u001b[38;5;241m*\u001b[39ma) \u001b[38;5;28;01mfor\u001b[39;00m r, (f, a) \u001b[38;5;129;01min\u001b[39;00m \u001b[38;5;28mzip\u001b[39m(results, postcomputes)])\n",
      "File \u001b[0;32m~/Documents/projects/Calcium---AR/notebooks-analysis/functions/conn_inf_funcs.py:73\u001b[0m, in \u001b[0;36mdask_conn_inf_LR\u001b[0;34m()\u001b[0m\n\u001b[1;32m     70\u001b[0m A \u001b[38;5;241m=\u001b[39m reg\u001b[38;5;241m.\u001b[39mcoef_\n\u001b[1;32m     71\u001b[0m A \u001b[38;5;241m=\u001b[39m A \u001b[38;5;241m-\u001b[39m (np\u001b[38;5;241m.\u001b[39mdiag(np\u001b[38;5;241m.\u001b[39mdiag(A)))\n\u001b[0;32m---> 73\u001b[0m corr_G_A \u001b[38;5;241m=\u001b[39m np\u001b[38;5;241m.\u001b[39mcorrcoef(G\u001b[38;5;241m.\u001b[39mflatten(), A\u001b[38;5;241m.\u001b[39mflatten())[\u001b[38;5;241m0\u001b[39m, \u001b[38;5;241m1\u001b[39m]\n\u001b[1;32m     75\u001b[0m \u001b[38;5;28;01mreturn\u001b[39;00m corr_G_A\n",
      "File \u001b[0;32m~/miniconda3/envs/phd_conda/lib/python3.12/site-packages/numpy/lib/_function_base_impl.py:2991\u001b[0m, in \u001b[0;36mcorrcoef\u001b[0;34m()\u001b[0m\n\u001b[1;32m   2987\u001b[0m \u001b[38;5;28;01mif\u001b[39;00m bias \u001b[38;5;129;01mis\u001b[39;00m \u001b[38;5;129;01mnot\u001b[39;00m np\u001b[38;5;241m.\u001b[39m_NoValue \u001b[38;5;129;01mor\u001b[39;00m ddof \u001b[38;5;129;01mis\u001b[39;00m \u001b[38;5;129;01mnot\u001b[39;00m np\u001b[38;5;241m.\u001b[39m_NoValue:\n\u001b[1;32m   2988\u001b[0m     \u001b[38;5;66;03m# 2015-03-15, 1.10\u001b[39;00m\n\u001b[1;32m   2989\u001b[0m     warnings\u001b[38;5;241m.\u001b[39mwarn(\u001b[38;5;124m'\u001b[39m\u001b[38;5;124mbias and ddof have no effect and are deprecated\u001b[39m\u001b[38;5;124m'\u001b[39m,\n\u001b[1;32m   2990\u001b[0m                   \u001b[38;5;167;01mDeprecationWarning\u001b[39;00m, stacklevel\u001b[38;5;241m=\u001b[39m\u001b[38;5;241m2\u001b[39m)\n\u001b[0;32m-> 2991\u001b[0m c \u001b[38;5;241m=\u001b[39m cov(x, y, rowvar, dtype\u001b[38;5;241m=\u001b[39mdtype)\n\u001b[1;32m   2992\u001b[0m \u001b[38;5;28;01mtry\u001b[39;00m:\n\u001b[1;32m   2993\u001b[0m     d \u001b[38;5;241m=\u001b[39m diag(c)\n",
      "File \u001b[0;32m~/miniconda3/envs/phd_conda/lib/python3.12/site-packages/numpy/lib/_function_base_impl.py:2783\u001b[0m, in \u001b[0;36mcov\u001b[0;34m()\u001b[0m\n\u001b[1;32m   2781\u001b[0m     \u001b[38;5;28;01mif\u001b[39;00m \u001b[38;5;129;01mnot\u001b[39;00m rowvar \u001b[38;5;129;01mand\u001b[39;00m y\u001b[38;5;241m.\u001b[39mshape[\u001b[38;5;241m0\u001b[39m] \u001b[38;5;241m!=\u001b[39m \u001b[38;5;241m1\u001b[39m:\n\u001b[1;32m   2782\u001b[0m         y \u001b[38;5;241m=\u001b[39m y\u001b[38;5;241m.\u001b[39mT\n\u001b[0;32m-> 2783\u001b[0m     X \u001b[38;5;241m=\u001b[39m np\u001b[38;5;241m.\u001b[39mconcatenate((X, y), axis\u001b[38;5;241m=\u001b[39m\u001b[38;5;241m0\u001b[39m)\n\u001b[1;32m   2785\u001b[0m \u001b[38;5;28;01mif\u001b[39;00m ddof \u001b[38;5;129;01mis\u001b[39;00m \u001b[38;5;28;01mNone\u001b[39;00m:\n\u001b[1;32m   2786\u001b[0m     \u001b[38;5;28;01mif\u001b[39;00m bias \u001b[38;5;241m==\u001b[39m \u001b[38;5;241m0\u001b[39m:\n",
      "\u001b[0;31mValueError\u001b[0m: all the input array dimensions except for the concatenation axis must match exactly, but along dimension 1, the array at index 0 has size 6250000 and the array at index 1 has size 4"
     ]
    }
   ],
   "source": [
    "client = Client()\n",
    "\n",
    "dashboard_link = client.dashboard_link\n",
    "print(f\"Dask Dashboard: {dashboard_link}\")\n",
    "import webbrowser\n",
    "# Optionally, open it automatically in the default browser\n",
    "webbrowser.open(dashboard_link)\n",
    "\n",
    "dask_array = da.from_array(spikes_train, chunks=('auto', 1000000))\n",
    "pr1 = dask_array.map_blocks(kef.dask_calcium, dtype=dask_array.dtype)\n",
    "pr2 = pr1.map_blocks(kef.dask_smooth, dtype=dask_array.dtype)\n",
    "pr3 = pr2.map_blocks(cif.dask_conn_inf_LR, gt_path, dtype=dask_array.dtype)\n",
    "result = pr3.compute()\n",
    "\n",
    "\n",
    "# Check the result\n",
    "print(\"Processing completed!\")"
   ]
  },
  {
   "cell_type": "code",
   "execution_count": null,
   "id": "07262d62-c653-4d44-a428-52a4925557a2",
   "metadata": {},
   "outputs": [],
   "source": []
  }
 ],
 "metadata": {
  "kernelspec": {
   "display_name": "Python phd_conda",
   "language": "python",
   "name": "phd_conda"
  },
  "language_info": {
   "codemirror_mode": {
    "name": "ipython",
    "version": 3
   },
   "file_extension": ".py",
   "mimetype": "text/x-python",
   "name": "python",
   "nbconvert_exporter": "python",
   "pygments_lexer": "ipython3",
   "version": "3.12.7"
  }
 },
 "nbformat": 4,
 "nbformat_minor": 5
}
