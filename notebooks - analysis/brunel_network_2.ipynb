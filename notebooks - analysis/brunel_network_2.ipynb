{
 "cells": [
  {
   "cell_type": "markdown",
   "metadata": {},
   "source": [
    "# Brunel Network\n",
    "\n",
    "This is simulation of Brunel Network based on the following paper:\n",
    "\n",
    "*Dynamics of Sparsely Connected Networks of Excitatory and Inhibitory Spiking Neurons\n",
    "NICOLAS BRUNEL, Journal of Computational Neuroscience 8, 183–208 (2000)*\n",
    "\n",
    "The simulation is done by NEST : https://www.nest-simulator.org/\n",
    "\n",
    "The main aim is to have large spiking network of leaky-integrate and fire neurons (inhibitory and excitatory) as a ground truth. \n",
    "In next step, I will try to estimate the connectivity of this network by fitting an Auto-regressive process and measure how well this method can infere based on ground truth.\n",
    "\n",
    "This simulation process has been run on the computing nodes of Bernstein Center Freiburg (https://www.bcf.uni-freiburg.de). So, it has benefited multiple threading."
   ]
  },
  {
   "cell_type": "code",
   "execution_count": 15,
   "metadata": {},
   "outputs": [],
   "source": [
    "#%matplotlib qt\n",
    "\n",
    "import nest\n",
    "import nest.raster_plot\n",
    "\n",
    "import matplotlib.pyplot as plt\n",
    "import numpy as np\n",
    "\n",
    "import time\n",
    "from numpy import exp\n",
    "\n",
    "import csv\n",
    "\n",
    "nest.ResetKernel()"
   ]
  },
  {
   "cell_type": "code",
   "execution_count": 3,
   "metadata": {},
   "outputs": [],
   "source": [
    "startbuild = time.time()\n",
    "nest.SetKernelStatus({\"local_num_threads\": 32})"
   ]
  },
  {
   "cell_type": "markdown",
   "metadata": {},
   "source": [
    "----> the problem of 0.1ms resolusion should be solved. spike times in this case is given as x.y. so it need to get multiplied by 10!"
   ]
  },
  {
   "cell_type": "code",
   "execution_count": 4,
   "metadata": {},
   "outputs": [],
   "source": [
    "dt = 0.1  # the resolution in ms\n",
    "simtime = 500.0 # Simulation time in ms\n",
    "#spike_bin = 10 #bin size for downsampling the spike train  (after checking whole code this line shall be removed.)\n",
    "delay = 1.5  # synaptic delay in ms"
   ]
  },
  {
   "cell_type": "code",
   "execution_count": 5,
   "metadata": {},
   "outputs": [],
   "source": [
    "g = 6.0  # ratio inhibitory weight/excitatory weight\n",
    "eta = 2.0  # external rate relative to threshold rate\n",
    "epsilon = 0.1  # connection probability"
   ]
  },
  {
   "cell_type": "code",
   "execution_count": 6,
   "metadata": {},
   "outputs": [],
   "source": [
    "order = 250\n",
    "NE = 4 * order  # number of excitatory neurons\n",
    "NI = 1 * order  # number of inhibitory neurons\n",
    "N_neurons = NE + NI  # number of neurons in total\n",
    "N_rec = 50  # record from 50 neurons"
   ]
  },
  {
   "cell_type": "code",
   "execution_count": 7,
   "metadata": {},
   "outputs": [],
   "source": [
    "CE = int(epsilon * NE)  # number of excitatory synapses per neuron\n",
    "CI = int(epsilon * NI)  # number of inhibitory synapses per neuron\n",
    "C_tot = int(CI + CE)  # total number of synapses per neuron"
   ]
  },
  {
   "cell_type": "code",
   "execution_count": 8,
   "metadata": {},
   "outputs": [],
   "source": [
    "tauMem = 20.0  # time constant of membrane potential in ms\n",
    "theta = 20.0  # membrane threshold potential in mV\n",
    "neuron_params = {\"C_m\": 1.0,\n",
    "                 \"tau_m\": tauMem,\n",
    "                 \"t_ref\": 2.0,\n",
    "                 \"E_L\": 0.0,\n",
    "                 \"V_reset\": 0.0,\n",
    "                 \"V_m\": 0.0,\n",
    "                 \"V_th\": theta}\n",
    "J = 8.  # postsynaptic amplitude in mV\n",
    "J_ex = J  # amplitude of excitatory postsynaptic potential\n",
    "J_in = -g * J_ex  # amplitude of inhibitory postsynaptic potential"
   ]
  },
  {
   "cell_type": "code",
   "execution_count": 9,
   "metadata": {},
   "outputs": [
    {
     "data": {
      "text/plain": [
       "2500.0"
      ]
     },
     "execution_count": 9,
     "metadata": {},
     "output_type": "execute_result"
    }
   ],
   "source": [
    "nu_th = theta / (J * CE * tauMem)\n",
    "nu_ex = eta * nu_th\n",
    "p_rate = 10000.0 * nu_ex * CE\n",
    "p_rate"
   ]
  },
  {
   "cell_type": "code",
   "execution_count": 10,
   "metadata": {},
   "outputs": [
    {
     "name": "stdout",
     "output_type": "stream",
     "text": [
      "Building network\n",
      "\n",
      "Mar 09 21:54:25 SimulationManager::set_status [Info]: \n",
      "    Temporal resolution changed from 0.1 to 0.1 ms.\n"
     ]
    }
   ],
   "source": [
    "nest.SetKernelStatus({\"resolution\": dt, \"print_time\": True,\n",
    "                      \"overwrite_files\": True})\n",
    "\n",
    "print(\"Building network\")"
   ]
  },
  {
   "cell_type": "markdown",
   "metadata": {},
   "source": [
    "DC generator was for testing something!"
   ]
  },
  {
   "cell_type": "code",
   "execution_count": 11,
   "metadata": {},
   "outputs": [],
   "source": [
    "nest.SetDefaults(\"iaf_psc_delta\", neuron_params)\n",
    "nest.SetDefaults(\"poisson_generator\", {\"rate\": p_rate})\n",
    "\n",
    "#DC generator\n",
    "nest.SetDefaults(\"dc_generator\", {\"amplitude\": 6.})"
   ]
  },
  {
   "cell_type": "code",
   "execution_count": 12,
   "metadata": {},
   "outputs": [],
   "source": [
    "nodes_ex = nest.Create(\"iaf_psc_delta\", NE)\n",
    "nodes_in = nest.Create(\"iaf_psc_delta\", NI)\n",
    "\n",
    "#DC Generator\n",
    "noise = nest.Create(\"poisson_generator\")\n",
    "#noise = nest.Create(\"dc_generator\")\n",
    "\n",
    "espikes = nest.Create(\"spike_recorder\")\n",
    "ispikes = nest.Create(\"spike_recorder\")"
   ]
  },
  {
   "cell_type": "code",
   "execution_count": 13,
   "metadata": {},
   "outputs": [],
   "source": [
    "#neuron test\n",
    "neuron_test = nest.Create(\"iaf_psc_delta\", 1)"
   ]
  },
  {
   "cell_type": "code",
   "execution_count": 14,
   "metadata": {},
   "outputs": [
    {
     "ename": "NESTErrors.DictError",
     "evalue": "DictError in SLI function SetStatus_id: Unused dictionary items:  withtime",
     "output_type": "error",
     "traceback": [
      "\u001b[0;31m---------------------------------------------------------------------------\u001b[0m",
      "\u001b[0;31mNESTErrors.DictError\u001b[0m                      Traceback (most recent call last)",
      "\u001b[1;32m/home/mjoudy/Documents/codes/Calcium---AR/Calcium---AR/brunel_network_2.ipynb Cell 16\u001b[0m in \u001b[0;36m3\n\u001b[1;32m      <a href='vscode-notebook-cell:/home/mjoudy/Documents/codes/Calcium---AR/Calcium---AR/brunel_network_2.ipynb#X21sZmlsZQ%3D%3D?line=0'>1</a>\u001b[0m \u001b[39m#neuron test multimeter\u001b[39;00m\n\u001b[1;32m      <a href='vscode-notebook-cell:/home/mjoudy/Documents/codes/Calcium---AR/Calcium---AR/brunel_network_2.ipynb#X21sZmlsZQ%3D%3D?line=1'>2</a>\u001b[0m multimeter_neuron \u001b[39m=\u001b[39m nest\u001b[39m.\u001b[39mCreate(\u001b[39m\"\u001b[39m\u001b[39mmultimeter\u001b[39m\u001b[39m\"\u001b[39m)\n\u001b[0;32m----> <a href='vscode-notebook-cell:/home/mjoudy/Documents/codes/Calcium---AR/Calcium---AR/brunel_network_2.ipynb#X21sZmlsZQ%3D%3D?line=2'>3</a>\u001b[0m nest\u001b[39m.\u001b[39;49mSetStatus(multimeter_neuron, {\u001b[39m\"\u001b[39;49m\u001b[39mwithtime\u001b[39;49m\u001b[39m\"\u001b[39;49m:\u001b[39mTrue\u001b[39;49;00m, \u001b[39m\"\u001b[39;49m\u001b[39mrecord_from\u001b[39;49m\u001b[39m\"\u001b[39;49m:[\u001b[39m\"\u001b[39;49m\u001b[39mV_m\u001b[39;49m\u001b[39m\"\u001b[39;49m]})\n\u001b[1;32m      <a href='vscode-notebook-cell:/home/mjoudy/Documents/codes/Calcium---AR/Calcium---AR/brunel_network_2.ipynb#X21sZmlsZQ%3D%3D?line=4'>5</a>\u001b[0m multimeter_network_E \u001b[39m=\u001b[39m nest\u001b[39m.\u001b[39mCreate(\u001b[39m\"\u001b[39m\u001b[39mmultimeter\u001b[39m\u001b[39m\"\u001b[39m)\n\u001b[1;32m      <a href='vscode-notebook-cell:/home/mjoudy/Documents/codes/Calcium---AR/Calcium---AR/brunel_network_2.ipynb#X21sZmlsZQ%3D%3D?line=5'>6</a>\u001b[0m nest\u001b[39m.\u001b[39mSetStatus(multimeter_network_E, {\u001b[39m\"\u001b[39m\u001b[39mwithtime\u001b[39m\u001b[39m\"\u001b[39m:\u001b[39mTrue\u001b[39;00m, \u001b[39m\"\u001b[39m\u001b[39mrecord_from\u001b[39m\u001b[39m\"\u001b[39m:[\u001b[39m\"\u001b[39m\u001b[39mV_m\u001b[39m\u001b[39m\"\u001b[39m]})\n",
      "File \u001b[0;32m/usr/lib/python3.10/dist-packages/nest/ll_api.py:229\u001b[0m, in \u001b[0;36mstack_checker.<locals>.stack_checker_func\u001b[0;34m(*args, **kwargs)\u001b[0m\n\u001b[1;32m    226\u001b[0m \u001b[39m@functools\u001b[39m\u001b[39m.\u001b[39mwraps(f)\n\u001b[1;32m    227\u001b[0m \u001b[39mdef\u001b[39;00m \u001b[39mstack_checker_func\u001b[39m(\u001b[39m*\u001b[39margs, \u001b[39m*\u001b[39m\u001b[39m*\u001b[39mkwargs):\n\u001b[1;32m    228\u001b[0m     \u001b[39mif\u001b[39;00m \u001b[39mnot\u001b[39;00m get_debug():\n\u001b[0;32m--> 229\u001b[0m         \u001b[39mreturn\u001b[39;00m f(\u001b[39m*\u001b[39;49margs, \u001b[39m*\u001b[39;49m\u001b[39m*\u001b[39;49mkwargs)\n\u001b[1;32m    230\u001b[0m     \u001b[39melse\u001b[39;00m:\n\u001b[1;32m    231\u001b[0m         sr(\u001b[39m'\u001b[39m\u001b[39mcount\u001b[39m\u001b[39m'\u001b[39m)\n",
      "File \u001b[0;32m/usr/lib/python3.10/dist-packages/nest/lib/hl_api_info.py:308\u001b[0m, in \u001b[0;36mSetStatus\u001b[0;34m(nodes, params, val)\u001b[0m\n\u001b[1;32m    306\u001b[0m     sr(\u001b[39m'\u001b[39m\u001b[39mTranspose \u001b[39m\u001b[39m{\u001b[39m\u001b[39m arrayload pop SetStatus } forall\u001b[39m\u001b[39m'\u001b[39m)\n\u001b[1;32m    307\u001b[0m \u001b[39melse\u001b[39;00m:\n\u001b[0;32m--> 308\u001b[0m     sli_func(\u001b[39m'\u001b[39;49m\u001b[39mSetStatus\u001b[39;49m\u001b[39m'\u001b[39;49m, nodes, params)\n",
      "File \u001b[0;32m/usr/lib/python3.10/dist-packages/nest/ll_api.py:165\u001b[0m, in \u001b[0;36msli_func\u001b[0;34m(s, *args, **kwargs)\u001b[0m\n\u001b[1;32m    163\u001b[0m sli_push(args)       \u001b[39m# push array of arguments on SLI stack\u001b[39;00m\n\u001b[1;32m    164\u001b[0m sli_push(s)          \u001b[39m# push command string\u001b[39;00m\n\u001b[0;32m--> 165\u001b[0m sli_run(slifun)      \u001b[39m# SLI support code to execute s on args\u001b[39;00m\n\u001b[1;32m    166\u001b[0m r \u001b[39m=\u001b[39m sli_pop()        \u001b[39m# return value is an array\u001b[39;00m\n\u001b[1;32m    168\u001b[0m \u001b[39mif\u001b[39;00m \u001b[39mlen\u001b[39m(r) \u001b[39m==\u001b[39m \u001b[39m1\u001b[39m:      \u001b[39m# 1 return value is no tuple\u001b[39;00m\n",
      "File \u001b[0;32m/usr/lib/python3.10/dist-packages/nest/ll_api.py:115\u001b[0m, in \u001b[0;36mcatching_sli_run\u001b[0;34m(cmd)\u001b[0m\n\u001b[1;32m    112\u001b[0m engine\u001b[39m.\u001b[39mrun(\u001b[39m'\u001b[39m\u001b[39mclear\u001b[39m\u001b[39m'\u001b[39m)\n\u001b[1;32m    114\u001b[0m exceptionCls \u001b[39m=\u001b[39m \u001b[39mgetattr\u001b[39m(kernel\u001b[39m.\u001b[39mNESTErrors, errorname)\n\u001b[0;32m--> 115\u001b[0m \u001b[39mraise\u001b[39;00m exceptionCls(commandname, message)\n",
      "\u001b[0;31mNESTErrors.DictError\u001b[0m: DictError in SLI function SetStatus_id: Unused dictionary items:  withtime"
     ]
    }
   ],
   "source": [
    "#neuron test multimeter\n",
    "multimeter_neuron = nest.Create(\"multimeter\")\n",
    "nest.SetStatus(multimeter_neuron, {\"withtime\":True, \"record_from\":[\"V_m\"]})\n",
    "\n",
    "multimeter_network_E = nest.Create(\"multimeter\")\n",
    "nest.SetStatus(multimeter_network_E, {\"withtime\":True, \"record_from\":[\"V_m\"]})\n",
    "\n",
    "multimeter_network_I = nest.Create(\"multimeter\")\n",
    "nest.SetStatus(multimeter_network_I, {\"withtime\":True, \"record_from\":[\"V_m\"]})"
   ]
  },
  {
   "cell_type": "code",
   "execution_count": 26,
   "metadata": {},
   "outputs": [],
   "source": [
    "#spike detectors\n",
    "sp_detector = nest.Create(\"spike_detector\", 1)"
   ]
  },
  {
   "cell_type": "code",
   "execution_count": 27,
   "metadata": {},
   "outputs": [
    {
     "name": "stdout",
     "output_type": "stream",
     "text": [
      "Connecting devices\n",
      "\n",
      "Feb 06 10:16:54 RecordingDevice::set_status [Info]: \n",
      "    Data will be recorded to file and to memory.\n",
      "\n",
      "Feb 06 10:16:54 RecordingDevice::set_status [Info]: \n",
      "    Data will be recorded to file and to memory.\n",
      "\n",
      "Feb 06 10:16:54 RecordingDevice::set_status [Info]: \n",
      "    Data will be recorded to file and to memory.\n",
      "\n",
      "Feb 06 10:16:54 RecordingDevice::set_status [Info]: \n",
      "    Data will be recorded to file and to memory.\n",
      "\n",
      "Feb 06 10:16:54 RecordingDevice::set_status [Info]: \n",
      "    Data will be recorded to file and to memory.\n",
      "\n",
      "Feb 06 10:16:54 RecordingDevice::set_status [Info]: \n",
      "    Data will be recorded to file and to memory.\n",
      "\n",
      "Feb 06 10:16:54 RecordingDevice::set_status [Info]: \n",
      "    Data will be recorded to file and to memory.\n",
      "\n",
      "Feb 06 10:16:54 RecordingDevice::set_status [Info]: \n",
      "    Data will be recorded to file and to memory.\n",
      "\n",
      "Feb 06 10:16:54 RecordingDevice::set_status [Info]: \n",
      "    Data will be recorded to file and to memory.\n",
      "\n",
      "Feb 06 10:16:54 RecordingDevice::set_status [Info]: \n",
      "    Data will be recorded to file and to memory.\n",
      "\n",
      "Feb 06 10:16:54 RecordingDevice::set_status [Info]: \n",
      "    Data will be recorded to file and to memory.\n",
      "\n",
      "Feb 06 10:16:54 RecordingDevice::set_status [Info]: \n",
      "    Data will be recorded to file and to memory.\n",
      "\n",
      "Feb 06 10:16:54 RecordingDevice::set_status [Info]: \n",
      "    Data will be recorded to file and to memory.\n",
      "\n",
      "Feb 06 10:16:54 RecordingDevice::set_status [Info]: \n",
      "    Data will be recorded to file and to memory.\n",
      "\n",
      "Feb 06 10:16:54 RecordingDevice::set_status [Info]: \n",
      "    Data will be recorded to file and to memory.\n",
      "\n",
      "Feb 06 10:16:54 RecordingDevice::set_status [Info]: \n",
      "    Data will be recorded to file and to memory.\n",
      "\n",
      "Feb 06 10:16:54 RecordingDevice::set_status [Info]: \n",
      "    Data will be recorded to file and to memory.\n",
      "\n",
      "Feb 06 10:16:54 RecordingDevice::set_status [Info]: \n",
      "    Data will be recorded to file and to memory.\n",
      "\n",
      "Feb 06 10:16:54 RecordingDevice::set_status [Info]: \n",
      "    Data will be recorded to file and to memory.\n",
      "\n",
      "Feb 06 10:16:54 RecordingDevice::set_status [Info]: \n",
      "    Data will be recorded to file and to memory.\n",
      "\n",
      "Feb 06 10:16:54 RecordingDevice::set_status [Info]: \n",
      "    Data will be recorded to file and to memory.\n",
      "\n",
      "Feb 06 10:16:54 RecordingDevice::set_status [Info]: \n",
      "    Data will be recorded to file and to memory.\n",
      "\n",
      "Feb 06 10:16:54 RecordingDevice::set_status [Info]: \n",
      "    Data will be recorded to file and to memory.\n",
      "\n",
      "Feb 06 10:16:54 RecordingDevice::set_status [Info]: \n",
      "    Data will be recorded to file and to memory.\n",
      "\n",
      "Feb 06 10:16:54 RecordingDevice::set_status [Info]: \n",
      "    Data will be recorded to file and to memory.\n",
      "\n",
      "Feb 06 10:16:54 RecordingDevice::set_status [Info]: \n",
      "    Data will be recorded to file and to memory.\n",
      "\n",
      "Feb 06 10:16:54 RecordingDevice::set_status [Info]: \n",
      "    Data will be recorded to file and to memory.\n",
      "\n",
      "Feb 06 10:16:54 RecordingDevice::set_status [Info]: \n",
      "    Data will be recorded to file and to memory.\n",
      "\n",
      "Feb 06 10:16:54 RecordingDevice::set_status [Info]: \n",
      "    Data will be recorded to file and to memory.\n",
      "\n",
      "Feb 06 10:16:54 RecordingDevice::set_status [Info]: \n",
      "    Data will be recorded to file and to memory.\n",
      "\n",
      "Feb 06 10:16:54 RecordingDevice::set_status [Info]: \n",
      "    Data will be recorded to file and to memory.\n",
      "\n",
      "Feb 06 10:16:54 RecordingDevice::set_status [Info]: \n",
      "    Data will be recorded to file and to memory.\n",
      "\n",
      "Feb 06 10:16:54 RecordingDevice::set_status [Info]: \n",
      "    Data will be recorded to file and to memory.\n",
      "\n",
      "Feb 06 10:16:54 RecordingDevice::set_status [Info]: \n",
      "    Data will be recorded to file and to memory.\n",
      "\n",
      "Feb 06 10:16:54 RecordingDevice::set_status [Info]: \n",
      "    Data will be recorded to file and to memory.\n",
      "\n",
      "Feb 06 10:16:54 RecordingDevice::set_status [Info]: \n",
      "    Data will be recorded to file and to memory.\n",
      "\n",
      "Feb 06 10:16:54 RecordingDevice::set_status [Info]: \n",
      "    Data will be recorded to file and to memory.\n",
      "\n",
      "Feb 06 10:16:54 RecordingDevice::set_status [Info]: \n",
      "    Data will be recorded to file and to memory.\n",
      "\n",
      "Feb 06 10:16:54 RecordingDevice::set_status [Info]: \n",
      "    Data will be recorded to file and to memory.\n",
      "\n",
      "Feb 06 10:16:54 RecordingDevice::set_status [Info]: \n",
      "    Data will be recorded to file and to memory.\n",
      "\n",
      "Feb 06 10:16:54 RecordingDevice::set_status [Info]: \n",
      "    Data will be recorded to file and to memory.\n",
      "\n",
      "Feb 06 10:16:54 RecordingDevice::set_status [Info]: \n",
      "    Data will be recorded to file and to memory.\n",
      "\n",
      "Feb 06 10:16:54 RecordingDevice::set_status [Info]: \n",
      "    Data will be recorded to file and to memory.\n",
      "\n",
      "Feb 06 10:16:54 RecordingDevice::set_status [Info]: \n",
      "    Data will be recorded to file and to memory.\n",
      "\n",
      "Feb 06 10:16:54 RecordingDevice::set_status [Info]: \n",
      "    Data will be recorded to file and to memory.\n",
      "\n",
      "Feb 06 10:16:54 RecordingDevice::set_status [Info]: \n",
      "    Data will be recorded to file and to memory.\n",
      "\n",
      "Feb 06 10:16:54 RecordingDevice::set_status [Info]: \n",
      "    Data will be recorded to file and to memory.\n",
      "\n",
      "Feb 06 10:16:54 RecordingDevice::set_status [Info]: \n",
      "    Data will be recorded to file and to memory.\n",
      "\n",
      "Feb 06 10:16:54 RecordingDevice::set_status [Info]: \n",
      "    Data will be recorded to file and to memory.\n",
      "\n",
      "Feb 06 10:16:54 RecordingDevice::set_status [Info]: \n",
      "    Data will be recorded to file and to memory.\n",
      "\n",
      "Feb 06 10:16:54 RecordingDevice::set_status [Info]: \n",
      "    Data will be recorded to file and to memory.\n",
      "\n",
      "Feb 06 10:16:54 RecordingDevice::set_status [Info]: \n",
      "    Data will be recorded to file and to memory.\n",
      "\n",
      "Feb 06 10:16:54 RecordingDevice::set_status [Info]: \n",
      "    Data will be recorded to file and to memory.\n",
      "\n",
      "Feb 06 10:16:54 RecordingDevice::set_status [Info]: \n",
      "    Data will be recorded to file and to memory.\n",
      "\n",
      "Feb 06 10:16:54 RecordingDevice::set_status [Info]: \n",
      "    Data will be recorded to file and to memory.\n",
      "\n",
      "Feb 06 10:16:54 RecordingDevice::set_status [Info]: \n",
      "    Data will be recorded to file and to memory.\n",
      "\n",
      "Feb 06 10:16:54 RecordingDevice::set_status [Info]: \n",
      "    Data will be recorded to file and to memory.\n",
      "\n",
      "Feb 06 10:16:54 RecordingDevice::set_status [Info]: \n",
      "    Data will be recorded to file and to memory.\n",
      "\n",
      "Feb 06 10:16:54 RecordingDevice::set_status [Info]: \n",
      "    Data will be recorded to file and to memory.\n",
      "\n",
      "Feb 06 10:16:54 RecordingDevice::set_status [Info]: \n",
      "    Data will be recorded to file and to memory.\n",
      "\n",
      "Feb 06 10:16:54 RecordingDevice::set_status [Info]: \n",
      "    Data will be recorded to file and to memory.\n",
      "\n",
      "Feb 06 10:16:54 RecordingDevice::set_status [Info]: \n",
      "    Data will be recorded to file and to memory.\n",
      "\n",
      "Feb 06 10:16:54 RecordingDevice::set_status [Info]: \n",
      "    Data will be recorded to file and to memory.\n",
      "\n",
      "Feb 06 10:16:54 RecordingDevice::set_status [Info]: \n",
      "    Data will be recorded to file and to memory.\n"
     ]
    }
   ],
   "source": [
    "nest.SetStatus(espikes, [{\"label\": \"brunel-py-ex\",\n",
    "                          \"withtime\": True,\n",
    "                          \"withgid\": True,\n",
    "                          \"to_file\": True}])\n",
    "\n",
    "nest.SetStatus(ispikes, [{\"label\": \"brunel-py-in\",\n",
    "                          \"withtime\": True,\n",
    "                          \"withgid\": True,\n",
    "                          \"to_file\": True}])\n",
    "\n",
    "print(\"Connecting devices\")"
   ]
  },
  {
   "cell_type": "code",
   "execution_count": 28,
   "metadata": {},
   "outputs": [],
   "source": [
    "nest.CopyModel(\"static_synapse\", \"excitatory\",\n",
    "               {\"weight\": J_ex, \"delay\": delay})\n",
    "nest.CopyModel(\"static_synapse\", \"inhibitory\",\n",
    "               {\"weight\": J_in, \"delay\": delay})"
   ]
  },
  {
   "cell_type": "code",
   "execution_count": 29,
   "metadata": {},
   "outputs": [],
   "source": [
    "nest.Connect(noise, nodes_ex, syn_spec=\"excitatory\")\n",
    "nest.Connect(noise, nodes_in, syn_spec=\"excitatory\")\n",
    "\n",
    "#neuron test noise\n",
    "nest.Connect(noise, neuron_test, syn_spec=\"excitatory\")"
   ]
  },
  {
   "cell_type": "code",
   "execution_count": 30,
   "metadata": {},
   "outputs": [],
   "source": [
    "#connecting multimeters\n",
    "nest.Connect(multimeter_neuron, neuron_test)\n",
    "nest.Connect(multimeter_network_E, [nodes_ex[100]])\n",
    "nest.Connect(multimeter_network_I, [nodes_in[120]])"
   ]
  },
  {
   "cell_type": "code",
   "execution_count": 31,
   "metadata": {},
   "outputs": [],
   "source": [
    "#connect spike detector\n",
    "nest.Connect(nodes_ex + nodes_in, sp_detector, syn_spec=\"excitatory\")"
   ]
  },
  {
   "cell_type": "code",
   "execution_count": 32,
   "metadata": {},
   "outputs": [
    {
     "name": "stdout",
     "output_type": "stream",
     "text": [
      "Connecting network\n",
      "Excitatory connections\n"
     ]
    }
   ],
   "source": [
    "nest.Connect(nodes_ex[:N_rec], espikes, syn_spec=\"excitatory\")\n",
    "nest.Connect(nodes_in[:N_rec], ispikes, syn_spec=\"excitatory\")\n",
    "\n",
    "print(\"Connecting network\")\n",
    "\n",
    "print(\"Excitatory connections\")"
   ]
  },
  {
   "cell_type": "code",
   "execution_count": 33,
   "metadata": {},
   "outputs": [
    {
     "name": "stdout",
     "output_type": "stream",
     "text": [
      "Inhibitory connections\n"
     ]
    }
   ],
   "source": [
    "conn_params_ex = {'rule': 'fixed_indegree', 'indegree': CE}\n",
    "nest.Connect(nodes_ex, nodes_ex + nodes_in, conn_params_ex, \"excitatory\")\n",
    "\n",
    "print(\"Inhibitory connections\")"
   ]
  },
  {
   "cell_type": "code",
   "execution_count": 34,
   "metadata": {},
   "outputs": [],
   "source": [
    "conn_params_in = {'rule': 'fixed_indegree', 'indegree': CI}\n",
    "nest.Connect(nodes_in, nodes_ex + nodes_in, conn_params_in, \"inhibitory\")"
   ]
  },
  {
   "cell_type": "code",
   "execution_count": 35,
   "metadata": {},
   "outputs": [],
   "source": [
    "endbuild = time.time()"
   ]
  },
  {
   "cell_type": "code",
   "execution_count": 36,
   "metadata": {},
   "outputs": [
    {
     "name": "stdout",
     "output_type": "stream",
     "text": [
      "Simulating\n",
      "\n",
      "Feb 06 10:16:57 NodeManager::prepare_nodes [Info]: \n",
      "    Preparing 1475 nodes for simulation.\n",
      "\n",
      "Feb 06 10:16:57 SimulationManager::start_updating_ [Info]: \n",
      "    Number of local nodes: 1475\n",
      "    Simulation time (ms): 500\n",
      "    Number of OpenMP threads: 32\n",
      "    Not using MPI\n",
      "\n",
      "100 %: network time: 500.0 ms, realtime factor: 0.5945\n",
      "\n",
      "Feb 06 10:16:58 SimulationManager::run [Info]: \n",
      "    Simulation finished.\n"
     ]
    }
   ],
   "source": [
    "print(\"Simulating\")\n",
    "\n",
    "nest.Simulate(simtime)"
   ]
  },
  {
   "cell_type": "code",
   "execution_count": 37,
   "metadata": {},
   "outputs": [],
   "source": [
    "endsimulate = time.time()"
   ]
  },
  {
   "cell_type": "code",
   "execution_count": 38,
   "metadata": {},
   "outputs": [],
   "source": [
    "events_ex = nest.GetStatus(espikes, \"n_events\")[0]\n",
    "events_in = nest.GetStatus(ispikes, \"n_events\")[0]"
   ]
  },
  {
   "cell_type": "code",
   "execution_count": 39,
   "metadata": {},
   "outputs": [],
   "source": [
    "rate_ex = events_ex / simtime * 1000.0 / N_rec\n",
    "rate_in = events_in / simtime * 1000.0 / N_rec"
   ]
  },
  {
   "cell_type": "code",
   "execution_count": 40,
   "metadata": {},
   "outputs": [],
   "source": [
    "num_synapses = (nest.GetDefaults(\"excitatory\")[\"num_connections\"] +\n",
    "                nest.GetDefaults(\"inhibitory\")[\"num_connections\"])"
   ]
  },
  {
   "cell_type": "code",
   "execution_count": 41,
   "metadata": {},
   "outputs": [],
   "source": [
    "build_time = endbuild - startbuild\n",
    "sim_time = endsimulate - endbuild"
   ]
  },
  {
   "cell_type": "code",
   "execution_count": 42,
   "metadata": {},
   "outputs": [
    {
     "name": "stdout",
     "output_type": "stream",
     "text": [
      "Brunel network simulation (Python)\n",
      "Number of neurons : 1250\n",
      "Number of synapses: 158851\n",
      "       Exitatory  : 126250\n",
      "       Inhibitory : 31250\n",
      "Excitatory rate   : 121.28 Hz\n",
      "Inhibitory rate   : 115.00 Hz\n",
      "Building time     : 3.74 s\n",
      "Simulation time   : 1.48 s\n"
     ]
    }
   ],
   "source": [
    "print(\"Brunel network simulation (Python)\")\n",
    "print(\"Number of neurons : {0}\".format(N_neurons))\n",
    "print(\"Number of synapses: {0}\".format(num_synapses))\n",
    "print(\"       Exitatory  : {0}\".format(int(CE * N_neurons) + N_neurons))\n",
    "print(\"       Inhibitory : {0}\".format(int(CI * N_neurons)))\n",
    "print(\"Excitatory rate   : %.2f Hz\" % rate_ex)\n",
    "print(\"Inhibitory rate   : %.2f Hz\" % rate_in)\n",
    "print(\"Building time     : %.2f s\" % build_time)\n",
    "print(\"Simulation time   : %.2f s\" % sim_time)"
   ]
  },
  {
   "cell_type": "code",
   "execution_count": 157,
   "metadata": {},
   "outputs": [
    {
     "data": {
      "text/plain": [
       "[<matplotlib.lines.Line2D at 0x7fe71cb55ef0>]"
      ]
     },
     "execution_count": 157,
     "metadata": {},
     "output_type": "execute_result"
    },
    {
     "data": {
      "image/png": "[encoded data removed]",
      "text/plain": [
       "<Figure size 432x288 with 2 Axes>"
      ]
     },
     "metadata": {
      "needs_background": "light"
     },
     "output_type": "display_data"
    }
   ],
   "source": [
    "nest.raster_plot.from_device(espikes, hist=True, hist_binwidth=0.5)"
   ]
  },
  {
   "cell_type": "markdown",
   "metadata": {},
   "source": [
    "Following blocks are for testig the whole process. signals and ..."
   ]
  },
  {
   "cell_type": "raw",
   "metadata": {},
   "source": [
    "dmm_neuron = nest.GetStatus(multimeter_neuron)[0]\n",
    "Vms_neuron = dmm_neuron[\"events\"][\"V_m\"]\n",
    "ts_neuron = dmm_neuron[\"events\"][\"times\"]\n",
    "\n",
    "plt.figure(2)\n",
    "plt.plot(ts_neuron, Vms_neuron, label = \"isolated\")\n",
    "plt.show()"
   ]
  },
  {
   "cell_type": "raw",
   "metadata": {},
   "source": [
    "dmm_E = nest.GetStatus(multimeter_network_E)[0]\n",
    "Vms_E = dmm_E[\"events\"][\"V_m\"]\n",
    "ts_E = dmm_E[\"events\"][\"times\"]\n",
    "\n",
    "plt.figure(2)\n",
    "plt.plot(ts_E, Vms_E, label = \"excitatory\", color='g')\n",
    "plt.show()"
   ]
  },
  {
   "cell_type": "raw",
   "metadata": {},
   "source": [
    "dmm_I = nest.GetStatus(multimeter_network_I)[0]\n",
    "Vms_I = dmm_I[\"events\"][\"V_m\"]\n",
    "ts_I = dmm_I[\"events\"][\"times\"]\n",
    "\n",
    "plt.figure(2)\n",
    "plt.plot(ts_I, Vms_I, label = \"inhibitory\", color='r')\n",
    "plt.show()\n",
    "plt.legend()"
   ]
  },
  {
   "cell_type": "code",
   "execution_count": 43,
   "metadata": {},
   "outputs": [],
   "source": [
    "#reading spike detector\n",
    "sp_detector_data = nest.GetStatus(sp_detector, \"events\")[0]\n",
    "sp_times = sp_detector_data[\"times\"]\n",
    "sp_senders = sp_detector_data[\"senders\"]"
   ]
  },
  {
   "cell_type": "code",
   "execution_count": 44,
   "metadata": {},
   "outputs": [],
   "source": [
    "np.save(\"sp_times-60e6-ms\", sp_times)\n",
    "np.save(\"sp_senders-60e6-ms\", sp_senders)"
   ]
  },
  {
   "cell_type": "markdown",
   "metadata": {},
   "source": [
    "This block may get improved as submatrix selection which had done for problem of hidden nodes."
   ]
  },
  {
   "cell_type": "code",
   "execution_count": 45,
   "metadata": {},
   "outputs": [],
   "source": [
    "#Get Connectivity matrix\n",
    "conn_tuple = nest.GetConnections(source= nodes_ex+nodes_in, target=nodes_ex+nodes_in)\n",
    "\n",
    "conn_matrix = np.zeros((N_neurons, N_neurons))\n",
    "\n",
    "sources = nest.GetStatus(conn_tuple, 'source')\n",
    "targets = nest.GetStatus(conn_tuple, 'target')\n",
    "weights = nest.GetStatus(conn_tuple, 'weight')\n",
    "\n",
    "counter = 0\n",
    "\n",
    "for i, j in zip(sources, targets):\n",
    "    conn_matrix[j-1, i-1] = weights[counter]\n",
    "    counter+=1\n",
    "    \n",
    "np.save(\"connectivity-60e6-ms\", conn_matrix)"
   ]
  },
  {
   "cell_type": "code",
   "execution_count": 47,
   "metadata": {},
   "outputs": [
    {
     "data": {
      "text/plain": [
       "(1250, 5000)"
      ]
     },
     "execution_count": 47,
     "metadata": {},
     "output_type": "execute_result"
    }
   ],
   "source": [
    "spikes = np.histogram2d(sp_senders, sp_times, bins=[range(1, 1252), np.arange(0, simtime+1, 1)])[0]\n",
    "\n",
    "np.save(\"spikes-60e6-ms\", spikes)\n",
    "np.shape(spikes)"
   ]
  },
  {
   "cell_type": "raw",
   "metadata": {},
   "source": [
    "plt.figure(3)\n",
    "plt.imshow(conn_matrix)\n",
    "plt.show()"
   ]
  },
  {
   "cell_type": "markdown",
   "metadata": {},
   "source": [
    "This codes has been left here to be used later."
   ]
  },
  {
   "cell_type": "code",
   "execution_count": null,
   "metadata": {},
   "outputs": [],
   "source": [
    "with open(\"runs_variable.csv\", \"w+\") as csvfile:\n",
    "    fieldnames = [\"sim_time\", \"order\", \"eta\", \"epsilon\", \"g\", \"j\", \"p_rate\", \"rate_ex\", \"rate_in\", \"num_syn\"]\n",
    "    writer = csv.DictWriter(csvfile, fieldnames=fieldnames)\n",
    "    writer.writeheader()"
   ]
  },
  {
   "cell_type": "code",
   "execution_count": null,
   "metadata": {},
   "outputs": [],
   "source": [
    "#writing multiple runs variables into a csv, it should be merged with the correlation results in the var nb.\n",
    "fieldnames = [\"sim_time\", \"order\", \"eta\", \"epsilon\", \"g\", \"j\", \"p_rate\", \"rate_ex\", \"rate_in\", \"num_syn\"]\n",
    "variable_dict = {\"sim_time\": simtime, \"order\": order, \"eta\": eta, \"epsilon\": epsilon, \"g\": g, \"j\": J,\n",
    "                 \"p_rate\": p_rate, \"rate_ex\": rate_ex, \"rate_in\": rate_in, \"num_syn\": num_synapses}\n",
    "\n",
    "with open(\"runs_variable.csv\", \"a\") as csvfile:\n",
    "    writer = csv.DictWriter(csvfile, fieldnames=fieldnames)\n",
    "    writer.writerow(variable_dict)"
   ]
  }
 ],
 "metadata": {
  "kernelspec": {
   "display_name": "base",
   "language": "python",
   "name": "python3"
  },
  "language_info": {
   "codemirror_mode": {
    "name": "ipython",
    "version": 3
   },
   "file_extension": ".py",
   "mimetype": "text/x-python",
   "name": "python",
   "nbconvert_exporter": "python",
   "pygments_lexer": "ipython3",
   "version": "3.10.9"
  },
  "vscode": {
   "interpreter": {
    "hash": "520b1da3d4413c293e60a41172a7854601290a092db2b54ee32e96e69d129298"
   }
  }
 },
 "nbformat": 4,
 "nbformat_minor": 2
}
