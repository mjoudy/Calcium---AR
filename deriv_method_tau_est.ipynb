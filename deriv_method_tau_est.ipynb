{
 "cells": [
  {
   "cell_type": "code",
   "execution_count": 1,
   "metadata": {},
   "outputs": [],
   "source": [
    "from kernel_est_funcs import *\n",
    "import numpy as np"
   ]
  },
  {
   "cell_type": "code",
   "execution_count": 2,
   "metadata": {},
   "outputs": [],
   "source": [
    "spikes = np.load(\"spikes-10e4-ms.npy\")"
   ]
  },
  {
   "cell_type": "code",
   "execution_count": 21,
   "metadata": {},
   "outputs": [],
   "source": [
    "tau = 100 #ms\n",
    "#calcium_signal = sim_calcium(spikes, tau)\n",
    "savgol_win_len =51\n",
    "\n",
    "methods = ['pure_fit', 'iqr_outlier', 'ransac_outlier', 'zscore_outlier']\n",
    "tau_sim = np.array([10, 20, 50, 100, 200, 300, 500, 800, 1000, 1500, 2000, 3000, 5000, 8000, 10000])\n",
    "tau_est_pure_fit = np.zeros(tau_sim.size)\n",
    "tau_est_iqr_outlier = np.zeros(tau_sim.size)\n",
    "tau_est_ransac_outlier = np.zeros(tau_sim.size)\n",
    "tau_est_zscore_outlier = np.zeros(tau_sim.size)\n",
    "tau_est_iqr_ransac = np.zeros(tau_sim.size)\n",
    "\n",
    "for names in methods:\n",
    "    method = globals()[names]\n",
    "    counter = 0\n",
    "    for i in tau_sim:\n",
    "        calcium_signal = sim_calcium(spikes, i)\n",
    "        signal, deriv = smoothed_signals(calcium_signal, savgol_win_len)\n",
    "        var_name = 'tau_est_'+names\n",
    "        globals()[var_name][counter] = -1/method(signal, deriv)\n",
    "        counter +=1\n",
    "\n"
   ]
  },
  {
   "cell_type": "code",
   "execution_count": 24,
   "metadata": {},
   "outputs": [
    {
     "data": {
      "text/plain": [
       "<matplotlib.legend.Legend at 0x7f1fd082c6d0>"
      ]
     },
     "execution_count": 24,
     "metadata": {},
     "output_type": "execute_result"
    }
   ],
   "source": [
    "%matplotlib qt\n",
    "fig, ax = plt.subplots()\n",
    "\n",
    "ax.plot(tau_sim, tau_est_pure_fit, 'o-', label='with outliers')\n",
    "ax.plot(tau_sim, tau_est_iqr_outlier, 'o-', label='IQR')\n",
    "ax.plot(tau_sim, tau_est_ransac_outlier, 'o-', label= 'RANSAC')\n",
    "ax.plot(tau_sim, tau_est_zscore_outlier, 'o-', label='Z score')\n",
    "\n",
    "ax.set_xscale('log')\n",
    "#ax.set_yscale('log')\n",
    "ax.legend()"
   ]
  },
  {
   "cell_type": "code",
   "execution_count": null,
   "metadata": {},
   "outputs": [],
   "source": []
  }
 ],
 "metadata": {
  "kernelspec": {
   "display_name": "base",
   "language": "python",
   "name": "python3"
  },
  "language_info": {
   "codemirror_mode": {
    "name": "ipython",
    "version": 3
   },
   "file_extension": ".py",
   "mimetype": "text/x-python",
   "name": "python",
   "nbconvert_exporter": "python",
   "pygments_lexer": "ipython3",
   "version": "3.10.9"
  },
  "orig_nbformat": 4
 },
 "nbformat": 4,
 "nbformat_minor": 2
}
