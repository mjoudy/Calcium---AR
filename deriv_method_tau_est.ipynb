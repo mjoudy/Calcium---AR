{
 "cells": [
  {
   "cell_type": "code",
   "execution_count": 2,
   "metadata": {},
   "outputs": [],
   "source": [
    "from kernel_est_funcs import *\n",
    "import numpy as np"
   ]
  },
  {
   "cell_type": "code",
   "execution_count": 3,
   "metadata": {},
   "outputs": [],
   "source": [
    "spikes = np.load(\"spikes-10e4-ms.npy\")"
   ]
  },
  {
   "cell_type": "code",
   "execution_count": null,
   "metadata": {},
   "outputs": [],
   "source": [
    "tau = 100 #ms\n",
    "#calcium_signal = sim_calcium(spikes, tau)\n",
    "savgol_win_len =51\n",
    "\n",
    "methods = ['pure', 'iqr', 'ransac', 'zscore', 'iqr_ransac']\n",
    "tau_sim = np.array([10, 20, 50, 100, 200, 300, 500, 800, 1000, 1500, 2000, 3000, 5000, 8000, 10000])\n",
    "tau_est_pure = np.zeros(tau_sim.size)\n",
    "tau_est_iqr = np.zeros(tau_sim.size)\n",
    "tau_est_ransac = np.zeros(tau_sim.size)\n",
    "tau_est_zscore = np.zeros(tau_sim.size)\n",
    "tau_est_iqr_ransac = np.zeros(tau_sim.size)\n",
    "\n",
    "for names in methods:\n",
    "    method = globals()[names]\n",
    "    for i in tau_sim:\n",
    "        calcium_signal = sim_calcium(spikes, i)\n",
    "        signal, deriv = smoothed_signals(calcium_signal, savgol_win_len)\n",
    "        var_name = 'tau_est'+'method'\n",
    "        \n",
    "        \n",
    "\n",
    "\n",
    "\n"
   ]
  },
  {
   "cell_type": "code",
   "execution_count": 8,
   "metadata": {},
   "outputs": [
    {
     "name": "stdout",
     "output_type": "stream",
     "text": [
      "[0. 0. 0.]\n"
     ]
    }
   ],
   "source": [
    "test = np.array([1,2,3])\n",
    "test2 = np.zeros(test.size)\n",
    "print(test2)"
   ]
  },
  {
   "cell_type": "code",
   "execution_count": 11,
   "metadata": {},
   "outputs": [
    {
     "data": {
      "text/plain": [
       "<function kernel_est_funcs.pure_fit(signal, deriv, plot=False)>"
      ]
     },
     "execution_count": 11,
     "metadata": {},
     "output_type": "execute_result"
    }
   ],
   "source": [
    "globals()['pure_fit']"
   ]
  },
  {
   "cell_type": "code",
   "execution_count": 5,
   "metadata": {},
   "outputs": [
    {
     "data": {
      "text/plain": [
       "42"
      ]
     },
     "execution_count": 5,
     "metadata": {},
     "output_type": "execute_result"
    }
   ],
   "source": [
    "var_string = \"test3\"\n",
    "globals()[var_string] = 42\n",
    "test3"
   ]
  },
  {
   "cell_type": "code",
   "execution_count": null,
   "metadata": {},
   "outputs": [],
   "source": []
  }
 ],
 "metadata": {
  "kernelspec": {
   "display_name": "base",
   "language": "python",
   "name": "python3"
  },
  "language_info": {
   "codemirror_mode": {
    "name": "ipython",
    "version": 3
   },
   "file_extension": ".py",
   "mimetype": "text/x-python",
   "name": "python",
   "nbconvert_exporter": "python",
   "pygments_lexer": "ipython3",
   "version": "3.10.9"
  },
  "orig_nbformat": 4
 },
 "nbformat": 4,
 "nbformat_minor": 2
}
