{
 "cells": [
  {
   "cell_type": "code",
   "execution_count": 3,
   "metadata": {},
   "outputs": [],
   "source": [
    "import numpy as np\n",
    "#import scipy as sp\n",
    "import matplotlib.pyplot as plt\n",
    "import scipy.signal as sig\n",
    "\n",
    "from pyspark import SparkContext\n",
    "import pyspark"
   ]
  },
  {
   "cell_type": "code",
   "execution_count": 1,
   "metadata": {},
   "outputs": [],
   "source": [
    "def sim_calcium(spikes, tau=100, neuron_id=500):\n",
    "\n",
    "    if neuron_id == -1:\n",
    "        N = np.shape(spikes)[0]\n",
    "        wup_time = 1000\n",
    "        spikes = spikes[:, wup_time:]\n",
    "        sim_dur = np.shape(spikes)[1]\n",
    "\n",
    "        noise_intra = np.random.normal(0, 0.01, (N, sim_dur))\n",
    "        spikes_noisy = spikes + noise_intra\n",
    "\n",
    "        calcium = np.zeros((N, sim_dur))\n",
    "        calcium_nsp = np.zeros((N, sim_dur))\n",
    "        dt = 1\n",
    "        const_A = np.exp((-1/tau)*dt)\n",
    "\n",
    "        calcium[:, 0] = spikes[:, 0]\n",
    "        calcium_nsp[:, 0] = spikes[:, 0]\n",
    "\n",
    "        for t in range(1, sim_dur):\n",
    "            calcium[:, t] = const_A*calcium[:, t-1] + spikes[:, t]\n",
    "\n",
    "        for t in range(1, sim_dur):\n",
    "            calcium_nsp[:, t] = const_A*calcium_nsp[:, t-1] + spikes_noisy[:, t]\n",
    "\n",
    "        noise_recording = np.random.normal(0,1, (N, sim_dur))\n",
    "        calcium_noisy = calcium + noise_recording\n",
    "        calcium_nsp_noisy = calcium_nsp + noise_recording\n",
    "    else:\n",
    "        wup_time = 1000\n",
    "        spikes = spikes[neuron_id, wup_time:]\n",
    "        sim_dur = np.shape(spikes)[0]\n",
    "\n",
    "        noise_intra = np.random.normal(0, 0.01, sim_dur)\n",
    "        spikes_noisy = spikes + noise_intra\n",
    "\n",
    "        calcium = np.zeros(sim_dur)\n",
    "        calcium_nsp = np.zeros(sim_dur)\n",
    "        dt = 1\n",
    "        const_A = np.exp((-1/tau)*dt)\n",
    "\n",
    "        calcium[0] = spikes[0]\n",
    "        calcium_nsp[0] = spikes[0]\n",
    "\n",
    "        for t in range(1, sim_dur):\n",
    "            calcium[t] = const_A*calcium[t-1] + spikes[t]\n",
    "\n",
    "        for t in range(1, sim_dur):\n",
    "            calcium_nsp[t] = const_A*calcium_nsp[t-1] + spikes_noisy[t]\n",
    "\n",
    "        noise_recording = np.random.normal(0,1, sim_dur)\n",
    "        calcium_noisy = calcium + noise_recording\n",
    "        calcium_nsp_noisy = calcium_nsp + noise_recording\n",
    "\n",
    "    #return calcium, calcium_noisy, calcium_nsp, calcium_nsp_noisy\n",
    "    return calcium_nsp_noisy, spikes"
   ]
  },
  {
   "cell_type": "code",
   "execution_count": 8,
   "metadata": {},
   "outputs": [
    {
     "name": "stdout",
     "output_type": "stream",
     "text": [
      "3.4.1\n"
     ]
    }
   ],
   "source": [
    "print(pyspark.__version__)"
   ]
  },
  {
   "cell_type": "code",
   "execution_count": 5,
   "metadata": {},
   "outputs": [
    {
     "name": "stderr",
     "output_type": "stream",
     "text": [
      "JAVA_HOME is not set\n"
     ]
    },
    {
     "ename": "RuntimeError",
     "evalue": "Java gateway process exited before sending its port number",
     "output_type": "error",
     "traceback": [
      "\u001b[0;31m---------------------------------------------------------------------------\u001b[0m",
      "\u001b[0;31mRuntimeError\u001b[0m                              Traceback (most recent call last)",
      "\u001b[1;32m/home/joudy/Documents/Codes/Calcium---AR/Calcium---AR/nemo-py/pipeline/spark/spark-test.ipynb Cell 3\u001b[0m line \u001b[0;36m1\n\u001b[0;32m----> <a href='vscode-notebook-cell:/home/joudy/Documents/Codes/Calcium---AR/Calcium---AR/nemo-py/pipeline/spark/spark-test.ipynb#W3sZmlsZQ%3D%3D?line=0'>1</a>\u001b[0m sc \u001b[39m=\u001b[39m SparkContext(\u001b[39m\"\u001b[39;49m\u001b[39mlocal\u001b[39;49m\u001b[39m\"\u001b[39;49m, \u001b[39m\"\u001b[39;49m\u001b[39mSimCalciumApp\u001b[39;49m\u001b[39m\"\u001b[39;49m)\n",
      "File \u001b[0;32m~/miniconda3/envs/phd/lib/python3.10/site-packages/pyspark/context.py:198\u001b[0m, in \u001b[0;36mSparkContext.__init__\u001b[0;34m(self, master, appName, sparkHome, pyFiles, environment, batchSize, serializer, conf, gateway, jsc, profiler_cls, udf_profiler_cls, memory_profiler_cls)\u001b[0m\n\u001b[1;32m    192\u001b[0m \u001b[39mif\u001b[39;00m gateway \u001b[39mis\u001b[39;00m \u001b[39mnot\u001b[39;00m \u001b[39mNone\u001b[39;00m \u001b[39mand\u001b[39;00m gateway\u001b[39m.\u001b[39mgateway_parameters\u001b[39m.\u001b[39mauth_token \u001b[39mis\u001b[39;00m \u001b[39mNone\u001b[39;00m:\n\u001b[1;32m    193\u001b[0m     \u001b[39mraise\u001b[39;00m \u001b[39mValueError\u001b[39;00m(\n\u001b[1;32m    194\u001b[0m         \u001b[39m\"\u001b[39m\u001b[39mYou are trying to pass an insecure Py4j gateway to Spark. This\u001b[39m\u001b[39m\"\u001b[39m\n\u001b[1;32m    195\u001b[0m         \u001b[39m\"\u001b[39m\u001b[39m is not allowed as it is a security risk.\u001b[39m\u001b[39m\"\u001b[39m\n\u001b[1;32m    196\u001b[0m     )\n\u001b[0;32m--> 198\u001b[0m SparkContext\u001b[39m.\u001b[39;49m_ensure_initialized(\u001b[39mself\u001b[39;49m, gateway\u001b[39m=\u001b[39;49mgateway, conf\u001b[39m=\u001b[39;49mconf)\n\u001b[1;32m    199\u001b[0m \u001b[39mtry\u001b[39;00m:\n\u001b[1;32m    200\u001b[0m     \u001b[39mself\u001b[39m\u001b[39m.\u001b[39m_do_init(\n\u001b[1;32m    201\u001b[0m         master,\n\u001b[1;32m    202\u001b[0m         appName,\n\u001b[0;32m   (...)\u001b[0m\n\u001b[1;32m    212\u001b[0m         memory_profiler_cls,\n\u001b[1;32m    213\u001b[0m     )\n",
      "File \u001b[0;32m~/miniconda3/envs/phd/lib/python3.10/site-packages/pyspark/context.py:432\u001b[0m, in \u001b[0;36mSparkContext._ensure_initialized\u001b[0;34m(cls, instance, gateway, conf)\u001b[0m\n\u001b[1;32m    430\u001b[0m \u001b[39mwith\u001b[39;00m SparkContext\u001b[39m.\u001b[39m_lock:\n\u001b[1;32m    431\u001b[0m     \u001b[39mif\u001b[39;00m \u001b[39mnot\u001b[39;00m SparkContext\u001b[39m.\u001b[39m_gateway:\n\u001b[0;32m--> 432\u001b[0m         SparkContext\u001b[39m.\u001b[39m_gateway \u001b[39m=\u001b[39m gateway \u001b[39mor\u001b[39;00m launch_gateway(conf)\n\u001b[1;32m    433\u001b[0m         SparkContext\u001b[39m.\u001b[39m_jvm \u001b[39m=\u001b[39m SparkContext\u001b[39m.\u001b[39m_gateway\u001b[39m.\u001b[39mjvm\n\u001b[1;32m    435\u001b[0m     \u001b[39mif\u001b[39;00m instance:\n",
      "File \u001b[0;32m~/miniconda3/envs/phd/lib/python3.10/site-packages/pyspark/java_gateway.py:106\u001b[0m, in \u001b[0;36mlaunch_gateway\u001b[0;34m(conf, popen_kwargs)\u001b[0m\n\u001b[1;32m    103\u001b[0m     time\u001b[39m.\u001b[39msleep(\u001b[39m0.1\u001b[39m)\n\u001b[1;32m    105\u001b[0m \u001b[39mif\u001b[39;00m \u001b[39mnot\u001b[39;00m os\u001b[39m.\u001b[39mpath\u001b[39m.\u001b[39misfile(conn_info_file):\n\u001b[0;32m--> 106\u001b[0m     \u001b[39mraise\u001b[39;00m \u001b[39mRuntimeError\u001b[39;00m(\u001b[39m\"\u001b[39m\u001b[39mJava gateway process exited before sending its port number\u001b[39m\u001b[39m\"\u001b[39m)\n\u001b[1;32m    108\u001b[0m \u001b[39mwith\u001b[39;00m \u001b[39mopen\u001b[39m(conn_info_file, \u001b[39m\"\u001b[39m\u001b[39mrb\u001b[39m\u001b[39m\"\u001b[39m) \u001b[39mas\u001b[39;00m info:\n\u001b[1;32m    109\u001b[0m     gateway_port \u001b[39m=\u001b[39m read_int(info)\n",
      "\u001b[0;31mRuntimeError\u001b[0m: Java gateway process exited before sending its port number"
     ]
    }
   ],
   "source": [
    "sc = SparkContext(\"local\", \"SimCalciumApp\")"
   ]
  },
  {
   "cell_type": "code",
   "execution_count": 6,
   "metadata": {},
   "outputs": [],
   "source": [
    "spikes_add = '/home/joudy/Documents/Codes/Calcium---AR/Calcium---AR/spikes-10e4-ms.npy'\n",
    "spikes = np.load(spikes_add)\n",
    "\n",
    "calcium_signal, spikes = sim_calcium(spikes, neuron_id=-1)"
   ]
  },
  {
   "cell_type": "code",
   "execution_count": 7,
   "metadata": {},
   "outputs": [
    {
     "data": {
      "text/plain": [
       "(1250, 9000)"
      ]
     },
     "execution_count": 7,
     "metadata": {},
     "output_type": "execute_result"
    }
   ],
   "source": [
    "calcium_signal.shape"
   ]
  },
  {
   "cell_type": "code",
   "execution_count": null,
   "metadata": {},
   "outputs": [],
   "source": []
  }
 ],
 "metadata": {
  "kernelspec": {
   "display_name": "phd",
   "language": "python",
   "name": "python3"
  },
  "language_info": {
   "codemirror_mode": {
    "name": "ipython",
    "version": 3
   },
   "file_extension": ".py",
   "mimetype": "text/x-python",
   "name": "python",
   "nbconvert_exporter": "python",
   "pygments_lexer": "ipython3",
   "version": "3.10.13"
  }
 },
 "nbformat": 4,
 "nbformat_minor": 2
}
