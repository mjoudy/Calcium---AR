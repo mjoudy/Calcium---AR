{
 "cells": [
  {
   "cell_type": "code",
   "execution_count": 3,
   "metadata": {},
   "outputs": [],
   "source": [
    "import csv\n",
    "import os\n",
    "\n",
    "# Your dictionary\n",
    "data_dict = {'Name': 'John Do', 'Age': 30, 'Ciy': 'New rk'}\n",
    "\n",
    "# Path to the CSV file\n",
    "csv_file_path = 'data.csv'\n",
    "\n",
    "# Function to append data to a CSV file\n",
    "def append_dict_as_row(file_path, dict_of_elem, field_names):\n",
    "    # Check if file exists\n",
    "    if not os.path.isfile(file_path):\n",
    "        # Create it, write headers and data\n",
    "        with open(file_path, 'w', newline='') as csvfile:\n",
    "            writer = csv.DictWriter(csvfile, fieldnames=field_names)\n",
    "            writer.writeheader()\n",
    "            writer.writerow(dict_of_elem)\n",
    "    else:\n",
    "        # Else file exists, append data\n",
    "        with open(file_path, 'a', newline='') as csvfile:\n",
    "            writer = csv.DictWriter(csvfile, fieldnames=field_names)\n",
    "            writer.writerow(dict_of_elem)\n",
    "\n",
    "# Fields in the dictionary will be used as headers\n",
    "fields = list(data_dict.keys())\n",
    "\n",
    "# Append the dictionary as a row in the CSV\n",
    "append_dict_as_row(csv_file_path, data_dict, fields)\n"
   ]
  },
  {
   "cell_type": "code",
   "execution_count": 4,
   "metadata": {},
   "outputs": [
    {
     "name": "stdout",
     "output_type": "stream",
     "text": [
      ".\n",
      ".\n"
     ]
    }
   ],
   "source": [
    "import os\n",
    "import os\n",
    "calcium_tau = 100\n",
    "a = '/work/ws/nemo/fr_mj200-lasso_reg-0/pipeline/source_data/t-60e6/feed-60e6-ms-tau100-final_data.npy'\n",
    "b = '/work/ws/nemo/fr_mj200-lasso_reg-0/pipeline/source_data/t-60e6'\n",
    "c =  f\"feed-60e6-ms-tau{calcium_tau}-final_data.npy\"\n",
    "d = b + '/' + c\n",
    "\n",
    "difference = os.path.relpath(d, a)\n",
    "print(difference)\n",
    "difference = os.path.relpath(d, a)\n",
    "print(difference)\n"
   ]
  },
  {
   "cell_type": "code",
   "execution_count": 47,
   "metadata": {},
   "outputs": [],
   "source": [
    "import json\n",
    "import csv"
   ]
  },
  {
   "cell_type": "code",
   "execution_count": 48,
   "metadata": {},
   "outputs": [],
   "source": [
    "data_dict = {'Name': 'John Doe', 'Age': 30, 'City': 'New York'}"
   ]
  },
  {
   "cell_type": "code",
   "execution_count": 49,
   "metadata": {},
   "outputs": [],
   "source": [
    "def write_dict_to_json(data_dict, filename):\n",
    "    with open(filename, 'w') as f:\n",
    "        json.dump(data_dict, f)"
   ]
  },
  {
   "cell_type": "code",
   "execution_count": 50,
   "metadata": {},
   "outputs": [],
   "source": [
    "write_dict_to_json(data_dict, 'data.json')"
   ]
  },
  {
   "cell_type": "code",
   "execution_count": 51,
   "metadata": {},
   "outputs": [],
   "source": [
    "temprature = 75"
   ]
  },
  {
   "cell_type": "code",
   "execution_count": 35,
   "metadata": {},
   "outputs": [],
   "source": [
    "def add_results_to_json(result_key, result_value, filename):\n",
    "    with open(filename, 'r') as f:\n",
    "        data_dict = json.load(f)\n",
    "        data_dict[result_key] = result_value\n",
    "\n",
    "    with open(filename, 'w') as f:\n",
    "        json.dump(data_dict, f)"
   ]
  },
  {
   "cell_type": "code",
   "execution_count": 52,
   "metadata": {},
   "outputs": [],
   "source": [
    "def add_results_to_json(result_key, result_value, filename):\n",
    "    with open(filename, 'r+') as f:\n",
    "        data_dict_new = json.load(f)\n",
    "        data_dict_new[result_key] = result_value\n",
    "        f.seek(0)\n",
    "        json.dump(data_dict_new, f)\n",
    "        f.truncate()"
   ]
  },
  {
   "cell_type": "code",
   "execution_count": 53,
   "metadata": {},
   "outputs": [],
   "source": [
    "add_results_to_json('temperature', temprature, 'data.json')"
   ]
  },
  {
   "cell_type": "code",
   "execution_count": 62,
   "metadata": {},
   "outputs": [],
   "source": [
    "add_results_to_json('test11', 8, 'data.json')"
   ]
  },
  {
   "cell_type": "code",
   "execution_count": 26,
   "metadata": {},
   "outputs": [],
   "source": [
    "import csv\n",
    "import json\n",
    "\n",
    "# Read the complete data\n",
    "with open('intermediate_data.json', 'r') as f:\n",
    "    data = json.load(f)\n",
    "\n",
    "csv_file_path = 'data.csv'\n",
    "\n",
    "def append_dict_as_row(file_path, dict_of_elem, field_names):\n",
    "    with open(file_path, 'a', newline='') as csvfile:\n",
    "        writer = csv.DictWriter(csvfile, fieldnames=field_names)\n",
    "        if csvfile.tell() == 0:  # If file is empty, write header\n",
    "            writer.writeheader()\n",
    "        writer.writerow(dict_of_elem)\n",
    "\n",
    "# Combine the data parts\n",
    "#combined_data = {**data['main_data'], **data.get('additional_data', {})}\n",
    "\n",
    "# Fields in the dictionary will be used as headers\n",
    "fields = list(combined_data.keys())\n",
    "\n",
    "# Append the combined dictionary as a row in the CSV\n",
    "append_dict_as_row(csv_file_path, combined_data, fields)\n"
   ]
  },
  {
   "cell_type": "code",
   "execution_count": 59,
   "metadata": {},
   "outputs": [],
   "source": [
    "def append_dict_to_csv(json_name, csv_name):\n",
    "    with open(json_name, 'r') as f:\n",
    "        data_dict_final = json.load(f)\n",
    "\n",
    "    field_names = list(data_dict_final.keys())\n",
    "    \n",
    "    with open(csv_name, 'a', newline='') as csvfile:\n",
    "        writer = csv.DictWriter(csvfile, fieldnames=field_names)\n",
    "        if csvfile.tell() == 0:  # If file is empty, write header\n",
    "            writer.writeheader()\n",
    "        writer.writerow(data_dict_final)\n"
   ]
  },
  {
   "cell_type": "code",
   "execution_count": 63,
   "metadata": {},
   "outputs": [],
   "source": [
    "append_dict_to_csv('data.json', 'data.csv')"
   ]
  },
  {
   "cell_type": "code",
   "execution_count": null,
   "metadata": {},
   "outputs": [],
   "source": []
  }
 ],
 "metadata": {
  "kernelspec": {
   "display_name": "phd",
   "language": "python",
   "name": "python3"
  },
  "language_info": {
   "codemirror_mode": {
    "name": "ipython",
    "version": 3
   },
   "file_extension": ".py",
   "mimetype": "text/x-python",
   "name": "python",
   "nbconvert_exporter": "python",
   "pygments_lexer": "ipython3",
   "version": "3.10.13"
  }
 },
 "nbformat": 4,
 "nbformat_minor": 2
}
