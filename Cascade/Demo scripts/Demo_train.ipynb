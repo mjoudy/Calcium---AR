{
 "cells": [
  {
   "cell_type": "markdown",
   "metadata": {},
   "source": [
    "# **Use CASCADE to train a custom-defined model**\n",
    "---\n",
    "\n",
    "<font size = 3>This demo script trains a deep network model, based on user-defined parameters:\n",
    "  \n",
    "  - Range of noise levels\n",
    "  - Frame rate\n",
    "  - Selection of ground truth data sets\n",
    "\n",
    "<font size = 3>The model configuration is defined based on a couple of parameters (sampling rate,\n",
    "training data sets, noise levels, ground truth smoothing). A folder is generated\n",
    "on the hard disk with the name *model_name*.\n",
    "\n",
    "<font size = 3>Finally, the model is trained using the function *cascade.train_model(model_name)*.\n",
    "    \n",
    "<font size = 3>The trained models are saved to disk.\n",
    "    \n",
    "---"
   ]
  },
  {
   "cell_type": "markdown",
   "metadata": {},
   "source": [
    "## 1. Import packages and check versions\n",
    "\n",
    "<font size = 3>Imports standard python packages, and the main CASCADE packages (cascade2p)."
   ]
  },
  {
   "cell_type": "code",
   "execution_count": 2,
   "metadata": {},
   "outputs": [
    {
     "name": "stdout",
     "output_type": "stream",
     "text": [
      "Current directory: /home/pierre/Desktop/git_env/Calibrated-inference-of-spiking\n",
      "\n",
      "Checks for packages:\n",
      "\tYAML reader installed (version 0.16.10).\n",
      "\tKeras installed (version 2.1.6).\n",
      "\tTensorflow installed (version 1.13.1).\n"
     ]
    }
   ],
   "source": [
    "import os\n",
    "if 'Demo scripts' in os.getcwd(): os.chdir('..')  # change to main directory\n",
    "print('Current directory: {}'.format( os.getcwd() ))\n",
    "\n",
    "# perform checks to catch import errors\n",
    "from cascade2p import checks    # TODO: put all of this in one function\n",
    "print('\\nChecks for packages:')\n",
    "checks.check_packages()\n",
    "\n",
    "from cascade2p import cascade"
   ]
  },
  {
   "cell_type": "markdown",
   "metadata": {},
   "source": [
    "## 2. Configure model"
   ]
  },
  {
   "cell_type": "markdown",
   "metadata": {},
   "source": [
    "### Define model parameters"
   ]
  },
  {
   "cell_type": "code",
   "execution_count": 7,
   "metadata": {},
   "outputs": [],
   "source": [
    "cfg = dict( \n",
    "    model_name = 'GCaMP6s_30Hz',    # Model name (and name of the save folder)\n",
    "    sampling_rate = 30,    # Sampling rate in Hz (round to next integer)\n",
    "    \n",
    "    training_datasets = [\n",
    "        'DS14-GCaMP6s-m-V1',\n",
    "        'DS15-GCaMP6s-m-V1',\n",
    "        'DS16-GCaMP6s-m-V1',\n",
    "        'DS12-GCaMP6s-m-V1-neuropil-corrected',\n",
    "        'DS13-GCaMP6s-m-V1-neuropil-corrected',\n",
    "                        ],\n",
    "    \n",
    "    noise_levels = [noise for noise in range(2,9)],  # int values of noise values (do not use numpy here => representer error!)\n",
    "    \n",
    "    smoothing = 0.2,     # std of Gaussian smoothing in time (sec)\n",
    "    causal_kernel = 0,   # causal ground truth smoothing kernel\n",
    "    \n",
    "    # Advanced:\n",
    "    # For additional parameters, you can find their names in the helper_scripts/config.py\n",
    "    # file in the config_template string\n",
    "          )"
   ]
  },
  {
   "cell_type": "markdown",
   "metadata": {},
   "source": [
    "### Save the model parameters as a config.yaml file\n",
    "\n",
    "<font size = 3>A yaml file is a simple text file that contains all details about the model. It is saved together with the trained model. This allows to retrospectively understand the parameters of each trained model."
   ]
  },
  {
   "cell_type": "code",
   "execution_count": null,
   "metadata": {
    "scrolled": true
   },
   "outputs": [],
   "source": [
    "# save parameter as config.yaml file\n",
    "cascade.create_model_folder( cfg )\n",
    "\n",
    "print('\\nTo load this model, use the model name \"{}\"'.format( cfg['model_name'] ))"
   ]
  },
  {
   "cell_type": "markdown",
   "metadata": {},
   "source": [
    "## 3. Train model\n",
    "\n",
    "<font size = 3>Uses the parameters defined in the model file to train the model. This can take some time, depending on the number of training data sets, the sampling rate and the number of noise levels."
   ]
  },
  {
   "cell_type": "code",
   "execution_count": null,
   "metadata": {
    "scrolled": true
   },
   "outputs": [],
   "source": [
    "model_name = cfg['model_name']\n",
    "\n",
    "# train model for all ensembles and noise levels\n",
    "cascade.train_model( model_name )\n"
   ]
  },
  {
   "cell_type": "markdown",
   "metadata": {},
   "source": [
    "## 4. Done!\n",
    "\n",
    "<font size = 3>The trained models are saved in the folder *Pretrained_models/model_name* as .h5 files together with the configuration (yaml) file. The .h5 files contain the architecture and learned weights of your models.\n",
    "\n",
    "To predict spike rates from calcium recordings, use the companion notebook \"predict_own_data-short.ipynb\" and enter your *model_name* as the model name."
   ]
  }
 ],
 "metadata": {
  "kernelspec": {
   "display_name": "Python 3",
   "language": "python",
   "name": "python3"
  },
  "language_info": {
   "codemirror_mode": {
    "name": "ipython",
    "version": 3
   },
   "file_extension": ".py",
   "mimetype": "text/x-python",
   "name": "python",
   "nbconvert_exporter": "python",
   "pygments_lexer": "ipython3",
   "version": "3.6.4"
  }
 },
 "nbformat": 4,
 "nbformat_minor": 2
}
